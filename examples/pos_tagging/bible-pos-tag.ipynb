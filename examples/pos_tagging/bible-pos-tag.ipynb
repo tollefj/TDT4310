{
 "cells": [
  {
   "cell_type": "code",
   "execution_count": 1,
   "id": "bbc1d173",
   "metadata": {},
   "outputs": [],
   "source": [
    "import nltk\n",
    "from collections import defaultdict"
   ]
  },
  {
   "cell_type": "code",
   "execution_count": 2,
   "id": "b191048f",
   "metadata": {},
   "outputs": [],
   "source": [
    "corpus = nltk.corpus.gutenberg\n",
    "bible = 'bible-kjv.txt'\n",
    "bible_words = corpus.words(bible)"
   ]
  },
  {
   "cell_type": "code",
   "execution_count": 3,
   "id": "af087ac8",
   "metadata": {},
   "outputs": [],
   "source": [
    "bible_pos = nltk.pos_tag(bible_words)"
   ]
  },
  {
   "cell_type": "code",
   "execution_count": 4,
   "id": "f010860e",
   "metadata": {},
   "outputs": [
    {
     "name": "stdout",
     "output_type": "stream",
     "text": [
      "unto: {'RP', 'IN', 'NNS', 'JJ', 'CC', 'RB', 'VBP', 'NNP', 'PRP$', 'VBZ', 'VB', 'MD', 'RBR', 'VBD', 'NN'}\n",
      "forth: {'RP', 'IN', 'NNS', 'JJ', 'PDT', 'JJS', 'VBN', 'RB', 'VBP', 'VBZ', 'VB', 'VBD', 'NN'}\n",
      "hath: {'IN', 'JJ', 'PDT', 'PRP', 'RB', 'VBP', 'VBZ', 'VB', 'MD', 'VBD', 'NN'}\n",
      "wherein: {'IN', 'WP', 'JJ', 'NN', \"''\", 'CC', 'JJR', 'RB', 'VBP', 'NNP', 'WRB', 'VBZ', 'VB', 'WDT', 'VBD', 'EX'}\n",
      "behold: {'JJ', 'CC', 'VBN', 'UH', 'RB', 'VBP', 'VB', 'VBD', 'NN'}\n",
      "till: {'IN', 'JJ', 'CC', 'RB', 'VBP', 'VBZ', 'VB', 'EX', 'NN'}\n",
      "evil: {'NNS', 'JJ', 'CC', 'VBN', 'RB', 'VBP', 'FW', 'VBZ', 'VB', 'EX', 'VBD', 'NN'}\n",
      "goeth: {'VBG', 'NNS', 'JJ', 'RB', 'VBP', 'VBZ', 'VB', 'VBD', 'NN'}\n",
      "thou: {'NNS', 'IN', 'RP', 'JJ', 'PRP', \"''\", 'CC', 'VBN', 'JJR', 'RB', 'VBP', 'NNP', 'VBZ', 'VB', 'EX', 'MD', 'VBD', 'NN'}\n",
      "eat: {'IN', 'JJ', 'RB', 'VBP', 'NNP', 'VBZ', 'VB', 'VBD', 'NN'}\n",
      "shalt: {'NNS', 'JJ', 'PRP', 'VBN', 'JJR', 'RB', 'VBP', 'FW', 'VBZ', 'VB', 'MD', 'VBD', 'NN'}\n",
      "thereof: {'NNS', 'RP', 'JJ', 'PRP', 'RB', 'VBP', 'VBZ', 'VB', 'WDT', 'EX', 'VBD', 'NN'}\n",
      "meet: {'NNS', 'JJ', 'VBN', 'RB', 'VBP', 'FW', 'VBZ', 'VB', 'VBD', 'NN'}\n",
      "whatsoever: {'IN', 'WP', 'JJ', 'CC', 'RB', 'WRB', 'VB', 'WDT', 'NN'}\n",
      "ye: {'RP', 'IN', 'VBN', 'FW', 'EX', 'NNS', 'UH', 'RB', 'MD', 'VBG', \"''\", 'PDT', 'JJS', 'CC', 'JJR', 'VBP', 'RBR', 'VBD', 'CD', 'JJ', 'PRP', 'NNP', 'VBZ', 'VB', 'POS', 'NN'}\n",
      "doth: {'VBG', 'NNS', 'IN', 'JJ', 'PDT', 'CC', 'MD', 'RB', 'VBP', 'NNP', 'FW', 'VBZ', 'VB', 'POS', 'DT', 'VBD', 'NN'}\n",
      "wise: {'IN', 'JJ', 'JJS', 'VBN', 'RB', 'VBP', 'VB', 'WDT', 'NN'}\n",
      "heard: {'NNS', 'JJ', 'PDT', 'VBN', 'RB', 'VBP', 'NNP', 'VBZ', 'VB', 'VBD', 'NN'}\n",
      "hid: {'JJ', 'PRP', 'VBN', 'RB', 'VBP', 'VBZ', 'VB', 'VBD', 'NN'}\n",
      "art: {'RP', 'IN', 'JJ', 'RB', 'VBP', 'VBZ', 'VB', 'VBD', 'NN'}\n",
      "thy: {'NNS', 'RP', 'IN', 'JJ', 'CC', 'VBN', 'RB', 'VBP', 'NNP', 'VBZ', 'VB', 'EX', 'VBD', 'NN'}\n",
      "afraid: {'RP', 'IN', 'NNS', 'JJ', 'VBN', 'RB', 'VB', 'VBD', 'NN'}\n",
      "thee: {'VBG', 'RP', 'NNS', 'IN', 'JJ', 'PRP', 'PDT', 'CC', 'VBN', 'RB', 'VBP', 'VBZ', 'VB', 'VBD', 'EX', 'MD', 'NN'}\n",
      "whereof: {'IN', 'WP', 'JJ', 'CC', 'VBP', 'VBZ', 'VB', 'VBD', 'NN'}\n",
      "hast: {'NNS', 'JJ', 'PRP', 'JJS', 'VBN', 'RB', 'VBP', 'PRP$', 'VBZ', 'VB', 'MD', 'VBD', 'RBS', 'NN'}\n",
      "sin: {'JJ', 'VBN', 'RB', 'VBP', 'NNP', 'VBZ', 'VB', 'VBD', 'NN'}\n",
      "whosoever: {'IN', 'WP', 'JJ', 'RB', 'VBP', 'WRB', 'VB', 'WDT', 'NN'}\n",
      "dwelt: {'NNS', 'IN', 'VBN', 'RB', 'VBP', 'NNP', 'VBZ', 'VB', 'VBD', 'NN'}\n",
      "twelve: {'NNS', 'RP', 'IN', 'CD', 'JJ', 'VBN', 'RB', 'VBP', 'VB', 'NN'}\n",
      "ten: {'NNS', 'RP', 'CD', 'JJ', 'CC', 'VBN', 'RB', 'VBP', 'VBZ', 'VB', 'NN'}\n",
      "mighty: {'NNS', 'JJ', 'JJS', 'VBN', 'JJR', 'RB', 'VBP', 'NNP', 'FW', 'NN'}\n",
      "gather: {'IN', 'JJ', 'CC', 'JJR', 'RB', 'VBP', 'VBZ', 'VB', 'VBD', 'NN'}\n",
      "lo: {'JJ', 'CC', 'JJR', 'UH', 'RB', 'FW', 'VBZ', 'VB', 'NN'}\n",
      "smite: {'JJ', 'PDT', 'CC', 'JJR', 'VBP', 'VBZ', 'VB', 'VBD', 'NN'}\n",
      "therein: {'RP', 'IN', 'NNS', 'JJ', 'VBN', 'RB', 'VBP', 'VBZ', 'VB', 'EX', 'VBD', 'NN'}\n",
      ",): {'NNS', 'IN', 'JJ', 'RB', 'VBP', 'NNP', 'FW', 'VBZ', 'VB', 'VBD', 'NN'}\n",
      "shew: {'JJ', 'CC', 'JJR', 'RB', 'VBP', 'VBZ', 'VB', 'VBD', 'NN'}\n",
      "therefore: {'IN', 'CC', 'VBN', 'JJR', 'RB', 'VBP', 'VB', 'EX', 'VBD', 'NN'}\n",
      "wilt: {'NNS', 'IN', 'WP', 'JJ', \"''\", 'JJS', 'VBP', 'WRB', 'VBZ', 'VB', 'MD', 'VBD', 'NN'}\n",
      ";): {'$', 'NNS', 'JJ', 'PDT', 'RB', 'VBP', 'NNP', 'FW', 'VBZ', 'VB', 'VBD', 'NN'}\n",
      "whither: {'IN', 'WP', 'PRP', 'CC', 'JJR', 'RB', 'VBP', 'VBZ', 'VBD', 'PRP$', 'NN'}\n",
      "yea: {'NNS', 'JJ', 'PRP', 'CC', 'VBN', 'UH', 'RB', 'FW', 'NN'}\n",
      "sat: {'JJ', 'JJR', 'VBN', 'RB', 'VBP', 'VBZ', 'VB', 'VBD', 'NN'}\n",
      "favour: {'NNS', 'CD', 'JJ', 'VBN', 'RB', 'VBP', 'VB', 'RBR', 'NN'}\n",
      "mercy: {'NNS', 'JJ', 'PRP', 'VBN', 'RB', 'FW', 'VBZ', 'VB', 'NN'}\n",
      "thither: {'RP', 'IN', 'PRP', 'CC', 'JJR', 'RB', 'VBP', 'MD', 'NN'}\n",
      "lie: {'NNS', 'CC', 'VBN', 'RB', 'VBP', 'FW', 'VBZ', 'VB', 'VBD', 'NN'}\n",
      "thousand: {'NNS', 'IN', 'CD', 'JJ', 'JJR', 'RB', 'VBP', 'VB', 'NN'}\n",
      "fast: {'NNS', 'JJ', 'JJS', 'VBN', 'RB', 'VBP', 'VB', 'VBD', 'NN'}\n",
      "afar: {'NNS', 'RP', 'IN', 'PRP', 'VBN', 'RB', 'VBP', 'VBZ', 'VB', 'VBD', 'NN'}\n",
      "worship: {'WP', 'JJ', 'CC', 'VBN', 'VBP', 'VBZ', 'VB', 'VBD', 'NN'}\n",
      "saith: {'JJ', 'PDT', \"''\", 'RB', 'VBP', 'FW', 'VBZ', 'VB', 'VBD', 'NN'}\n",
      "cometh: {'NNS', 'JJ', 'RB', 'VBP', 'VBZ', 'VB', 'RBR', 'VBD', 'NN'}\n",
      "toucheth: {'VBG', 'NNS', 'IN', 'JJ', 'NN', 'JJR', 'VBP', 'VBZ', 'VB', 'VBD', 'EX'}\n",
      "love: {'IN', 'VBN', 'JJR', 'RB', 'VBP', 'VBZ', 'VB', 'RBR', 'VBD', 'NN'}\n",
      "loveth: {'NNS', 'JJ', 'RB', 'VBP', 'FW', 'VBZ', 'VB', 'VBD', 'NN'}\n",
      "wherewith: {'IN', 'WP', 'JJ', 'VBN', 'VBP', 'VBZ', 'VB', 'VBD', 'NN'}\n",
      "abode: {'NNS', 'IN', 'JJ', 'VBN', 'RB', 'VBP', 'VBZ', 'VB', 'VBD', 'NN'}\n",
      "dost: {'JJ', 'JJS', 'VBN', 'RB', 'VBP', 'FW', 'VB', 'VBD', 'NN'}\n",
      "forgotten: {'NNS', 'JJ', 'VBN', 'RB', 'VBP', 'VBZ', 'VB', 'VBD', 'NN'}\n",
      "speaketh: {'JJ', 'PDT', 'VBN', 'RB', 'VBP', 'FW', 'VBZ', 'VBD', 'NN'}\n",
      "honour: {'NNS', 'JJ', 'PRP', 'JJR', 'VBN', 'RB', 'VBP', 'PRP$', 'VB', 'VBD', 'NN'}\n",
      ":): {'$', 'NNS', 'IN', 'JJ', 'VBP', 'NNP', 'FW', 'VBZ', 'VBD', 'NN'}\n",
      "maketh: {'NNS', 'JJ', 'PRP', 'RB', 'VBP', 'FW', 'NNP', 'VBZ', 'VB', 'MD', 'VBD', 'NN'}\n",
      "bringeth: {'NNS', 'IN', 'JJ', 'RB', 'VBP', 'VBZ', 'VB', 'VBD', 'NN'}\n",
      "thrust: {'VBG', 'JJ', 'CC', 'VBN', 'RB', 'VBP', 'VB', 'EX', 'VBD', 'NN'}\n",
      "withal: {'IN', 'JJ', 'JJR', 'RB', 'VBP', 'WRB', 'VBZ', 'VB', 'VBD', 'NN'}\n",
      "turneth: {'NNS', 'IN', 'JJ', 'PRP', 'RB', 'VBP', 'VBZ', 'VB', 'VBD', 'NN'}\n",
      "increaseth: {'NNS', 'IN', 'JJ', 'VBN', 'VBP', 'VBZ', 'VB', 'VBD', 'NN'}\n"
     ]
    }
   ],
   "source": [
    "# create a set as the default entry value\n",
    "tags = defaultdict(set)\n",
    "for word, tag in bible_pos:\n",
    "    tags[word].add(tag)\n",
    "\n",
    "# look at words with more than 8 tags:\n",
    "for word, tag_list in tags.items():\n",
    "    if len(tag_list) > 8:\n",
    "        print(\"{}: {}\".format(word, tag_list))"
   ]
  },
  {
   "cell_type": "code",
   "execution_count": 5,
   "id": "49361a99",
   "metadata": {},
   "outputs": [
    {
     "name": "stdout",
     "output_type": "stream",
     "text": [
      "wherein: {'.', 'ADP', 'PRON', 'VERB', 'CONJ', 'NOUN', 'DET', 'ADV', 'ADJ'}\n",
      "thou: {'.', 'ADP', 'PRON', 'VERB', 'CONJ', 'NOUN', 'PRT', 'DET', 'ADV', 'ADJ'}\n",
      "ye: {'.', 'NUM', 'ADP', 'X', 'VERB', 'PRON', 'CONJ', 'NOUN', 'PRT', 'DET', 'ADV', 'ADJ'}\n",
      "doth: {'ADP', 'X', 'VERB', 'CONJ', 'NOUN', 'PRT', 'DET', 'ADV', 'ADJ'}\n",
      "thee: {'ADP', 'PRON', 'VERB', 'CONJ', 'NOUN', 'PRT', 'DET', 'ADV', 'ADJ'}\n"
     ]
    }
   ],
   "source": [
    "# https://www.ling.upenn.edu/courses/Fall_2003/ling001/penn_treebank_pos.html\n",
    "style = \"en-ptb\"  # penn treebank POS\n",
    "\n",
    "simplify = lambda tag : nltk.map_tag(style, \"universal\", tag)\n",
    "\n",
    "def simple_pos(text):\n",
    "    pos = nltk.pos_tag(text)\n",
    "    return [(word, simplify(tag)) for word, tag in pos]\n",
    "\n",
    "# create a set as the default entry value\n",
    "tags = defaultdict(set)\n",
    "for word, tag in simple_pos(bible_words):\n",
    "    tags[word].add(tag)\n",
    "\n",
    "# look at words with more than 8 tags:\n",
    "for word, tag_list in tags.items():\n",
    "    if len(tag_list) > 8:\n",
    "        print(\"{}: {}\".format(word, tag_list))"
   ]
  },
  {
   "cell_type": "code",
   "execution_count": 6,
   "id": "fc7a59af-02c5-44bc-9741-c4793dd2ad7b",
   "metadata": {},
   "outputs": [
    {
     "data": {
      "text/plain": [
       "[('The', 'AT'),\n",
       " ('Fulton', 'NP-TL'),\n",
       " ('County', 'NN-TL'),\n",
       " ('Grand', 'JJ-TL'),\n",
       " ('Jury', 'NN-TL'),\n",
       " ('said', 'VBD'),\n",
       " ('Friday', 'NR'),\n",
       " ('an', 'AT'),\n",
       " ('investigation', 'NN'),\n",
       " ('of', 'IN')]"
      ]
     },
     "execution_count": 6,
     "metadata": {},
     "output_type": "execute_result"
    }
   ],
   "source": [
    "corpus = nltk.corpus.brown\n",
    "corpus.tagged_words()[:10]"
   ]
  },
  {
   "cell_type": "code",
   "execution_count": 7,
   "id": "14ebe79b-4e49-4b48-8e19-bfdcf4c86376",
   "metadata": {},
   "outputs": [
    {
     "data": {
      "text/plain": [
       "[('The', 'DET'),\n",
       " ('Fulton', 'NOUN'),\n",
       " ('County', 'NOUN'),\n",
       " ('Grand', 'ADJ'),\n",
       " ('Jury', 'NOUN'),\n",
       " ('said', 'VERB'),\n",
       " ('Friday', 'NOUN'),\n",
       " ('an', 'DET'),\n",
       " ('investigation', 'NOUN'),\n",
       " ('of', 'ADP')]"
      ]
     },
     "execution_count": 7,
     "metadata": {},
     "output_type": "execute_result"
    }
   ],
   "source": [
    "corpus.tagged_words(tagset=\"universal\")[:10]"
   ]
  },
  {
   "cell_type": "code",
   "execution_count": null,
   "id": "2cca1a23-37eb-49bb-8327-8cbde97d4d78",
   "metadata": {},
   "outputs": [],
   "source": []
  }
 ],
 "metadata": {
  "kernelspec": {
   "display_name": "Python 3.9.7 64-bit ('base': conda)",
   "language": "python",
   "name": "python397jvsc74a57bd029553384b1b01f6109f5069a08d409f2dc5adeb046ccd0e94d694cc3c1cd07a6"
  },
  "language_info": {
   "codemirror_mode": {
    "name": "ipython",
    "version": 3
   },
   "file_extension": ".py",
   "mimetype": "text/x-python",
   "name": "python",
   "nbconvert_exporter": "python",
   "pygments_lexer": "ipython3",
   "version": "3.9.9"
  }
 },
 "nbformat": 4,
 "nbformat_minor": 5
}
