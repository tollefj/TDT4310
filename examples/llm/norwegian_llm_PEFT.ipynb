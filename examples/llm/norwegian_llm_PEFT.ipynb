{
 "cells": [
  {
   "cell_type": "code",
   "execution_count": null,
   "metadata": {},
   "outputs": [],
   "source": [
    "import torch\n",
    "from transformers import AutoModelForCausalLM, AutoTokenizer\n",
    "\n",
    "BASE_MODEL = \"norallm/normistral-7b-warm\"\n",
    "ADAPTER = \"tollefj/nordavind-7b-instruct-adapter\"\n",
    "device = \"mps\"\n",
    "\n",
    "model = AutoModelForCausalLM.from_pretrained(\n",
    "    BASE_MODEL,\n",
    "    torch_dtype=torch.float16,\n",
    ")\n",
    "model.to(device)\n",
    "model.load_adapter(ADAPTER)\n",
    "tokenizer = AutoTokenizer.from_pretrained(BASE_MODEL)"
   ]
  },
  {
   "cell_type": "code",
   "execution_count": 44,
   "metadata": {},
   "outputs": [
    {
     "name": "stdout",
     "output_type": "stream",
     "text": [
      "Dependency parsering er en prosess som brukes til å analysere setninger for å identifisere de forskjellige delene av setningen. Dette gjøres ved å identifisere substantiv, verb, adjektiver, preposisjoner og andre deler av setningene.  Dependency parsers bruker en rekke teknikker for å analysere setningene, inkludert bruk av grammatiske regler og maskinlæring.  Resultatet av dependency parser er en trestruktur som representerer strukturen til setningen, med hver node som representerer en del av setnings\n"
     ]
    }
   ],
   "source": [
    "SYSTEM_PROMPT = 'Du er \"Nordavind\", en hjelpsom assistent. Du skal besvare spørsmål i kontekst av datamaskinell lingvistikk'\n",
    "def make_prompt(inst):\n",
    "    return f\"\"\"<s>{SYSTEM_PROMPT} [INST] {inst} [/INST] \\\\n\"\"\"\n",
    "\n",
    "def generate(\n",
    "    prompt,\n",
    "    tokens=100,\n",
    "    **kwargs,\n",
    "):\n",
    "    model_inputs = tokenizer(make_prompt(prompt), return_tensors=\"pt\")\n",
    "    model_inputs.to(model.device.type)\n",
    "    model_inputs.pop(\"token_type_ids\", None)\n",
    "    generated_ids = model.generate(\n",
    "        **model_inputs,\n",
    "        max_new_tokens=tokens,\n",
    "        **kwargs,\n",
    "        # do_sample=sample,\n",
    "        # temperature=1,\n",
    "        # top_p=0.95,\n",
    "        # top_k=50,\n",
    "        repetition_penalty=1,\n",
    "        no_repeat_ngram_size=3,\n",
    "    )\n",
    "    output = tokenizer.batch_decode(generated_ids, skip_special_tokens=True)[0]\n",
    "    output = output.split(\"[/INST]\")[-1][3:]  # skip the newline token\n",
    "    output = output.strip()\n",
    "    print(output)\n",
    "\n",
    "generate(\"beskriv dependency parsing\")"
   ]
  }
 ],
 "metadata": {
  "kernelspec": {
   "display_name": "Python 3",
   "language": "python",
   "name": "python3"
  },
  "language_info": {
   "codemirror_mode": {
    "name": "ipython",
    "version": 3
   },
   "file_extension": ".py",
   "mimetype": "text/x-python",
   "name": "python",
   "nbconvert_exporter": "python",
   "pygments_lexer": "ipython3",
   "version": "3.11.7"
  }
 },
 "nbformat": 4,
 "nbformat_minor": 2
}
