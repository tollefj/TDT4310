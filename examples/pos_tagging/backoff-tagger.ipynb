{
 "cells": [
  {
   "cell_type": "code",
   "execution_count": 1,
   "id": "3cb6804a-1d9b-400f-993a-6d574ad8a2ca",
   "metadata": {},
   "outputs": [],
   "source": [
    "import nltk\n",
    "from sklearn.model_selection import train_test_split as split\n",
    "from nltk.tag import DefaultTagger, UnigramTagger"
   ]
  },
  {
   "cell_type": "code",
   "execution_count": 2,
   "id": "47fc96d1-96bd-4ca5-afb7-67ade0114e46",
   "metadata": {},
   "outputs": [
    {
     "data": {
      "text/plain": [
       "'3.6.7'"
      ]
     },
     "execution_count": 2,
     "metadata": {},
     "output_type": "execute_result"
    }
   ],
   "source": [
    "nltk.__version__"
   ]
  },
  {
   "cell_type": "code",
   "execution_count": 3,
   "id": "5c09aad9-afe0-4743-a58d-95fbcd2a597f",
   "metadata": {},
   "outputs": [],
   "source": [
    "tagged = nltk.corpus.brown.tagged_sents()\n",
    "\n",
    "train_50, test_50 = split(tagged, test_size=0.5)"
   ]
  },
  {
   "cell_type": "code",
   "execution_count": 5,
   "id": "5720447b-25ae-4a07-afea-d84d73bd2a19",
   "metadata": {},
   "outputs": [],
   "source": [
    "# set a basic tagger that defaults to nouns (NN)\n",
    "default = DefaultTagger(\"NN\")\n",
    "uni = UnigramTagger(train=train_50, backoff=default)"
   ]
  },
  {
   "cell_type": "code",
   "execution_count": 6,
   "id": "5fdf198d-fa70-41ac-9fe7-23b81528601c",
   "metadata": {},
   "outputs": [
    {
     "data": {
      "text/plain": [
       "0.13121334599307174"
      ]
     },
     "execution_count": 6,
     "metadata": {},
     "output_type": "execute_result"
    }
   ],
   "source": [
    "default.accuracy(test_50)"
   ]
  },
  {
   "cell_type": "code",
   "execution_count": 9,
   "id": "18502118-28cd-4717-b57e-0388a4d769cc",
   "metadata": {},
   "outputs": [
    {
     "data": {
      "text/plain": [
       "0.02921770772261337"
      ]
     },
     "execution_count": 9,
     "metadata": {},
     "output_type": "execute_result"
    }
   ],
   "source": [
    "everything_is_a_verb = DefaultTagger(\"VB\")\n",
    "everything_is_a_verb.accuracy(test_50)"
   ]
  },
  {
   "cell_type": "code",
   "execution_count": 10,
   "id": "93ef2574-ea3c-494d-98ef-6141a27026e4",
   "metadata": {},
   "outputs": [
    {
     "data": {
      "text/plain": [
       "0.894657832521346"
      ]
     },
     "execution_count": 10,
     "metadata": {},
     "output_type": "execute_result"
    }
   ],
   "source": [
    "uni.accuracy(test_50)"
   ]
  },
  {
   "cell_type": "code",
   "execution_count": 11,
   "id": "3d8e2de4-5e29-401b-ae44-d595b0fd210c",
   "metadata": {},
   "outputs": [
    {
     "name": "stdout",
     "output_type": "stream",
     "text": [
      " Tag | Prec.  | Recall | F-measure\n",
      "-----+--------+--------+-----------\n",
      "  NN | 0.7812 | 0.9428 | 0.8544\n",
      "  IN | 0.9498 | 0.8832 | 0.9153\n",
      "  AT | 0.9850 | 1.0000 | 0.9925\n",
      "  JJ | 0.9089 | 0.8655 | 0.8867\n",
      "   . | 0.9897 | 0.9992 | 0.9945\n",
      "   , | 0.9967 | 0.9999 | 0.9983\n",
      " NNS | 0.9590 | 0.8968 | 0.9269\n",
      "  CC | 0.9827 | 0.9940 | 0.9883\n",
      "  RB | 0.8945 | 0.8186 | 0.8549\n",
      "  NP | 0.9059 | 0.7899 | 0.8439\n",
      "  VB | 0.8580 | 0.7826 | 0.8186\n",
      " VBN | 0.7515 | 0.7389 | 0.7452\n",
      " VBD | 0.7706 | 0.7017 | 0.7345\n",
      "  CS | 0.7454 | 0.9332 | 0.8288\n",
      " PPS | 0.8667 | 0.9999 | 0.9286\n",
      " VBG | 0.8969 | 0.8506 | 0.8731\n",
      " PP$ | 0.9322 | 0.9996 | 0.9647\n",
      "  TO | 0.5692 | 0.9999 | 0.7254\n",
      "PPSS | 0.9336 | 0.9984 | 0.9649\n",
      "  CD | 0.8787 | 0.9198 | 0.8988\n",
      "\n"
     ]
    }
   ],
   "source": [
    "print(uni.evaluate_per_tag(test_50, truncate=20, sort_by_count=True))"
   ]
  },
  {
   "cell_type": "code",
   "execution_count": 14,
   "id": "ef9fed8d-cbd7-42b9-9dec-fdd7eed9dc68",
   "metadata": {},
   "outputs": [
    {
     "data": {
      "text/plain": [
       "<ConfusionMatrix: 517301/578211 correct>"
      ]
     },
     "execution_count": 14,
     "metadata": {},
     "output_type": "execute_result"
    }
   ],
   "source": [
    "uni.confusion(test_50)"
   ]
  },
  {
   "cell_type": "code",
   "execution_count": null,
   "id": "280160f4-ef4a-4776-a9d3-a16369b7d161",
   "metadata": {},
   "outputs": [],
   "source": []
  }
 ],
 "metadata": {
  "kernelspec": {
   "display_name": "Python 3.9.7 64-bit ('base': conda)",
   "language": "python",
   "name": "python397jvsc74a57bd029553384b1b01f6109f5069a08d409f2dc5adeb046ccd0e94d694cc3c1cd07a6"
  },
  "language_info": {
   "codemirror_mode": {
    "name": "ipython",
    "version": 3
   },
   "file_extension": ".py",
   "mimetype": "text/x-python",
   "name": "python",
   "nbconvert_exporter": "python",
   "pygments_lexer": "ipython3",
   "version": "3.9.9"
  }
 },
 "nbformat": 4,
 "nbformat_minor": 5
}
