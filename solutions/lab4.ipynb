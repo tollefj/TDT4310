{
 "cells": [
  {
   "cell_type": "code",
   "execution_count": 1,
   "metadata": {},
   "outputs": [],
   "source": [
    "import warnings\n",
    "warnings.filterwarnings(\"ignore\")"
   ]
  },
  {
   "cell_type": "markdown",
   "metadata": {},
   "source": [
    "# POS Chunking\n",
    "**1. Create a chunker that detects noun-phrases (NPs) and lists the NPs in the text below.**\n",
    "\n",
    "- Both [NLTK](https://www.nltk.org/book/ch07.html) and [spaCy](https://spacy.io/api/matcher) supports chunking\n",
    "- Look up RegEx parsing for NLTK and the document object for spaCy.\n",
    "- Make use of what you've learned about tokenization."
   ]
  },
  {
   "cell_type": "code",
   "execution_count": 2,
   "metadata": {},
   "outputs": [],
   "source": [
    "text = \"The language model predicted the next word. It was a very nice word!\"\n",
    "# TODO: set up a pos tagger and a chunker.\n",
    "# Output: a list of all tokens, grouped as noun-phrases where applicable"
   ]
  },
  {
   "cell_type": "code",
   "execution_count": 3,
   "metadata": {},
   "outputs": [
    {
     "name": "stdout",
     "output_type": "stream",
     "text": [
      "with NLTK:\n",
      "[('The', 'DET'), ('language', 'NOUN'), ('model', 'NOUN')]\n",
      "[('the', 'DET'), ('next', 'ADJ'), ('word', 'NOUN')]\n",
      "[('nice', 'ADJ'), ('word', 'NOUN')]\n",
      "With spaCy:\n",
      "[('The', 'DET'), ('language', 'NOUN'), ('model', 'NOUN')]\n",
      "[('the', 'DET'), ('next', 'ADJ'), ('word', 'NOUN')]\n",
      "[('It', 'PRON')]\n",
      "[('a', 'DET'), ('very', 'ADV'), ('nice', 'ADJ'), ('word', 'NOUN')]\n"
     ]
    }
   ],
   "source": [
    "# LF\n",
    "# Expect a system with either regex or with a high-level implementation, .e.g in spaCy\n",
    "print(\"with NLTK:\")\n",
    "from nltk import word_tokenize, pos_tag\n",
    "from nltk import RegexpParser\n",
    "\n",
    "tokens = word_tokenize(text)\n",
    "pos_tags = pos_tag(tokens, tagset='universal')\n",
    "NP_grammar = \"\"\"\n",
    "    NP: {<DET>?<ADJ>*<NOUN>+}\n",
    "\"\"\"\n",
    "chunker = RegexpParser(NP_grammar)\n",
    "for subtree in chunker.parse(pos_tags).subtrees():\n",
    "    if subtree.label() == \"NP\":\n",
    "        print(subtree.leaves())\n",
    "\n",
    "print(\"With spaCy:\")\n",
    "import spacy\n",
    "from spacy.matcher import Matcher\n",
    "nlp = spacy.load(\"en_core_web_sm\")\n",
    "doc = nlp(text)\n",
    "for np in doc.noun_chunks:  # <-- this is automatically parsed in the model\n",
    "    print([(token.text, token.pos_) for token in np])"
   ]
  },
  {
   "cell_type": "markdown",
   "metadata": {},
   "source": [
    "**2. Modify the chunker to handle verb-phases (VPs) as well.**\n",
    "- This can be done by using a RegEx parser in NLTK or using a spaCy Matcher."
   ]
  },
  {
   "cell_type": "code",
   "execution_count": 4,
   "metadata": {},
   "outputs": [],
   "source": [
    "# TODO: set up grammars to chunk VPs\n",
    "\n",
    "grammar = \"\"\"\n",
    "    VP: {MYGRAMMAR}\n",
    "\"\"\""
   ]
  },
  {
   "cell_type": "code",
   "execution_count": 5,
   "metadata": {},
   "outputs": [
    {
     "name": "stdout",
     "output_type": "stream",
     "text": [
      "Verb-phrase matching\n",
      "With NLTK:\n",
      "[('The', 'DET'), ('language', 'NOUN'), ('model', 'NOUN')]\n",
      "[('the', 'DET'), ('next', 'ADJ'), ('word', 'NOUN')]\n",
      "[('nice', 'ADJ'), ('word', 'NOUN')]\n",
      "With spaCy Matcher:\n",
      "[('The', 'DET'), ('language', 'NOUN')]\n",
      "Match type: noun_phrase\n",
      "[('The', 'DET'), ('language', 'NOUN'), ('model', 'NOUN')]\n",
      "Match type: noun_phrase\n",
      "[('the', 'DET'), ('next', 'ADJ'), ('word', 'NOUN')]\n",
      "Match type: noun_phrase\n",
      "[('predicted', 'VERB'), ('the', 'DET'), ('next', 'ADJ'), ('word', 'NOUN')]\n",
      "Match type: verb_phrase\n"
     ]
    }
   ],
   "source": [
    "# LF\n",
    "print(\"Verb-phrase matching\")\n",
    "print(\"With NLTK:\")\n",
    "grammar = \"\"\"\n",
    "    VP: {<VERB><DET>?<ADJ>?<NOUN>+}\n",
    "    NP: {<DET>?<ADJ>*<NOUN>+}\n",
    "\"\"\"\n",
    "chunker = RegexpParser(NP_grammar)\n",
    "for subtree in chunker.parse(pos_tags).subtrees():\n",
    "    if subtree.label() == \"NP\":\n",
    "        print(subtree.leaves())\n",
    "\n",
    "print(\"With spaCy Matcher:\")\n",
    "vp = [\n",
    "    {'POS': 'VERB', 'OP': '+'},\n",
    "    {'POS': 'DET', 'OP': '?'},\n",
    "    {'POS': 'ADJ', 'OP': '*'},\n",
    "    {'POS': 'NOUN', 'OP': '+'}\n",
    "]\n",
    "np = [\n",
    "    {'POS': 'DET', 'OP': '{1}'},\n",
    "    {'POS': 'ADJ', 'OP': '*'},\n",
    "    {'POS': 'NOUN', 'OP': '+'}\n",
    "]\n",
    "matcher = Matcher(nlp.vocab)\n",
    "matcher.add(\"verb_phrase\", [vp])\n",
    "matcher.add(\"noun_phrase\", [np])\n",
    "\n",
    "def get_chunks(doc):\n",
    "    matches = matcher(doc)\n",
    "    for match_id, start, end in matches:\n",
    "        span = doc[start:end]\n",
    "        match_type = nlp.vocab.strings[match_id]\n",
    "        print([(token.text, token.pos_) for token in span])\n",
    "        print(f\"Match type: {match_type}\")\n",
    "get_chunks(doc)"
   ]
  },
  {
   "cell_type": "markdown",
   "metadata": {},
   "source": [
    "**3. Verb-phrases (VPs) can be defined by many different grammatical rules. Give four examples.**\n",
    "- Hint: Context-Free Grammars, chapter 8 in NLTK."
   ]
  },
  {
   "cell_type": "markdown",
   "metadata": {},
   "source": [
    "Your answer here!"
   ]
  },
  {
   "cell_type": "markdown",
   "metadata": {},
   "source": [
    "Expect answers from the NLTK chapter on context-free-grammar, such as\n",
    "- VP -> V Adj | V NP | V S | V NP PP\n",
    "\n",
    "This is sort of a trick question, as chatgpt answers:\n",
    "````\n",
    "Simple VP: Consists of just a single verb.\n",
    "Example: \"He runs.\"\n",
    "Compound VP: Involves multiple verbs joined together.\n",
    "Example: \"She will eat and sleep.\"\n",
    "Complex VP: Includes a main verb along with one or more auxiliary verbs or modal verbs.\n",
    "Example: \"They have been studying.\"\n",
    "Phrasal Verb: A verb followed by one or more particles (adverbs or prepositions) that together form a single semantic unit.\n",
    "Example: \"He looked up the word in the dictionary.\"\n",
    "```"
   ]
  },
  {
   "cell_type": "markdown",
   "metadata": {},
   "source": [
    "**4. After these applications, do you find chunking to be beneficial in the context of language modeling and next-word prediction? Why or why not?**"
   ]
  },
  {
   "cell_type": "markdown",
   "metadata": {},
   "source": [
    "Your answer here!"
   ]
  },
  {
   "cell_type": "markdown",
   "metadata": {},
   "source": [
    "___"
   ]
  },
  {
   "cell_type": "markdown",
   "metadata": {},
   "source": [
    "# Dependency Parsing"
   ]
  },
  {
   "cell_type": "markdown",
   "metadata": {},
   "source": [
    "**1. Use spaCy to inspect/visualise the dependency tree of the text provided below.**\n",
    "- Optional addition: visualize the dependencies as a graph using `networkx`"
   ]
  },
  {
   "cell_type": "code",
   "execution_count": 6,
   "metadata": {},
   "outputs": [],
   "source": [
    "text = \"The language model predicted the next word\"\n",
    "# TODO: use spacy and displacy to visualize the dependency tree"
   ]
  },
  {
   "cell_type": "code",
   "execution_count": 7,
   "metadata": {},
   "outputs": [
    {
     "data": {
      "text/html": [
       "<span class=\"tex2jax_ignore\"><svg xmlns=\"http://www.w3.org/2000/svg\" xmlns:xlink=\"http://www.w3.org/1999/xlink\" xml:lang=\"en\" id=\"fb8df903495e47d585a192714fa3567f-0\" class=\"displacy\" width=\"750\" height=\"287.0\" direction=\"ltr\" style=\"max-width: none; height: 287.0px; color: #000000; background: #ffffff; font-family: Arial; direction: ltr\">\n",
       "<text class=\"displacy-token\" fill=\"currentColor\" text-anchor=\"middle\" y=\"197.0\">\n",
       "    <tspan class=\"displacy-word\" fill=\"currentColor\" x=\"50\">The</tspan>\n",
       "    <tspan class=\"displacy-tag\" dy=\"2em\" fill=\"currentColor\" x=\"50\">DET</tspan>\n",
       "</text>\n",
       "\n",
       "<text class=\"displacy-token\" fill=\"currentColor\" text-anchor=\"middle\" y=\"197.0\">\n",
       "    <tspan class=\"displacy-word\" fill=\"currentColor\" x=\"150\">language</tspan>\n",
       "    <tspan class=\"displacy-tag\" dy=\"2em\" fill=\"currentColor\" x=\"150\">NOUN</tspan>\n",
       "</text>\n",
       "\n",
       "<text class=\"displacy-token\" fill=\"currentColor\" text-anchor=\"middle\" y=\"197.0\">\n",
       "    <tspan class=\"displacy-word\" fill=\"currentColor\" x=\"250\">model</tspan>\n",
       "    <tspan class=\"displacy-tag\" dy=\"2em\" fill=\"currentColor\" x=\"250\">NOUN</tspan>\n",
       "</text>\n",
       "\n",
       "<text class=\"displacy-token\" fill=\"currentColor\" text-anchor=\"middle\" y=\"197.0\">\n",
       "    <tspan class=\"displacy-word\" fill=\"currentColor\" x=\"350\">predicted</tspan>\n",
       "    <tspan class=\"displacy-tag\" dy=\"2em\" fill=\"currentColor\" x=\"350\">VERB</tspan>\n",
       "</text>\n",
       "\n",
       "<text class=\"displacy-token\" fill=\"currentColor\" text-anchor=\"middle\" y=\"197.0\">\n",
       "    <tspan class=\"displacy-word\" fill=\"currentColor\" x=\"450\">the</tspan>\n",
       "    <tspan class=\"displacy-tag\" dy=\"2em\" fill=\"currentColor\" x=\"450\">DET</tspan>\n",
       "</text>\n",
       "\n",
       "<text class=\"displacy-token\" fill=\"currentColor\" text-anchor=\"middle\" y=\"197.0\">\n",
       "    <tspan class=\"displacy-word\" fill=\"currentColor\" x=\"550\">next</tspan>\n",
       "    <tspan class=\"displacy-tag\" dy=\"2em\" fill=\"currentColor\" x=\"550\">ADJ</tspan>\n",
       "</text>\n",
       "\n",
       "<text class=\"displacy-token\" fill=\"currentColor\" text-anchor=\"middle\" y=\"197.0\">\n",
       "    <tspan class=\"displacy-word\" fill=\"currentColor\" x=\"650\">word</tspan>\n",
       "    <tspan class=\"displacy-tag\" dy=\"2em\" fill=\"currentColor\" x=\"650\">NOUN</tspan>\n",
       "</text>\n",
       "\n",
       "<g class=\"displacy-arrow\">\n",
       "    <path class=\"displacy-arc\" id=\"arrow-fb8df903495e47d585a192714fa3567f-0-0\" stroke-width=\"2px\" d=\"M62,152.0 62,118.66666666666666 247.0,118.66666666666666 247.0,152.0\" fill=\"none\" stroke=\"currentColor\"/>\n",
       "    <text dy=\"1.25em\" style=\"font-size: 0.8em; letter-spacing: 1px\">\n",
       "        <textPath xlink:href=\"#arrow-fb8df903495e47d585a192714fa3567f-0-0\" class=\"displacy-label\" startOffset=\"50%\" side=\"left\" fill=\"currentColor\" text-anchor=\"middle\">det</textPath>\n",
       "    </text>\n",
       "    <path class=\"displacy-arrowhead\" d=\"M62,154.0 L58,146.0 66,146.0\" fill=\"currentColor\"/>\n",
       "</g>\n",
       "\n",
       "<g class=\"displacy-arrow\">\n",
       "    <path class=\"displacy-arc\" id=\"arrow-fb8df903495e47d585a192714fa3567f-0-1\" stroke-width=\"2px\" d=\"M162,152.0 162,135.33333333333334 244.0,135.33333333333334 244.0,152.0\" fill=\"none\" stroke=\"currentColor\"/>\n",
       "    <text dy=\"1.25em\" style=\"font-size: 0.8em; letter-spacing: 1px\">\n",
       "        <textPath xlink:href=\"#arrow-fb8df903495e47d585a192714fa3567f-0-1\" class=\"displacy-label\" startOffset=\"50%\" side=\"left\" fill=\"currentColor\" text-anchor=\"middle\">compound</textPath>\n",
       "    </text>\n",
       "    <path class=\"displacy-arrowhead\" d=\"M162,154.0 L158,146.0 166,146.0\" fill=\"currentColor\"/>\n",
       "</g>\n",
       "\n",
       "<g class=\"displacy-arrow\">\n",
       "    <path class=\"displacy-arc\" id=\"arrow-fb8df903495e47d585a192714fa3567f-0-2\" stroke-width=\"2px\" d=\"M262,152.0 262,135.33333333333334 344.0,135.33333333333334 344.0,152.0\" fill=\"none\" stroke=\"currentColor\"/>\n",
       "    <text dy=\"1.25em\" style=\"font-size: 0.8em; letter-spacing: 1px\">\n",
       "        <textPath xlink:href=\"#arrow-fb8df903495e47d585a192714fa3567f-0-2\" class=\"displacy-label\" startOffset=\"50%\" side=\"left\" fill=\"currentColor\" text-anchor=\"middle\">nsubj</textPath>\n",
       "    </text>\n",
       "    <path class=\"displacy-arrowhead\" d=\"M262,154.0 L258,146.0 266,146.0\" fill=\"currentColor\"/>\n",
       "</g>\n",
       "\n",
       "<g class=\"displacy-arrow\">\n",
       "    <path class=\"displacy-arc\" id=\"arrow-fb8df903495e47d585a192714fa3567f-0-3\" stroke-width=\"2px\" d=\"M462,152.0 462,118.66666666666666 647.0,118.66666666666666 647.0,152.0\" fill=\"none\" stroke=\"currentColor\"/>\n",
       "    <text dy=\"1.25em\" style=\"font-size: 0.8em; letter-spacing: 1px\">\n",
       "        <textPath xlink:href=\"#arrow-fb8df903495e47d585a192714fa3567f-0-3\" class=\"displacy-label\" startOffset=\"50%\" side=\"left\" fill=\"currentColor\" text-anchor=\"middle\">det</textPath>\n",
       "    </text>\n",
       "    <path class=\"displacy-arrowhead\" d=\"M462,154.0 L458,146.0 466,146.0\" fill=\"currentColor\"/>\n",
       "</g>\n",
       "\n",
       "<g class=\"displacy-arrow\">\n",
       "    <path class=\"displacy-arc\" id=\"arrow-fb8df903495e47d585a192714fa3567f-0-4\" stroke-width=\"2px\" d=\"M562,152.0 562,135.33333333333334 644.0,135.33333333333334 644.0,152.0\" fill=\"none\" stroke=\"currentColor\"/>\n",
       "    <text dy=\"1.25em\" style=\"font-size: 0.8em; letter-spacing: 1px\">\n",
       "        <textPath xlink:href=\"#arrow-fb8df903495e47d585a192714fa3567f-0-4\" class=\"displacy-label\" startOffset=\"50%\" side=\"left\" fill=\"currentColor\" text-anchor=\"middle\">amod</textPath>\n",
       "    </text>\n",
       "    <path class=\"displacy-arrowhead\" d=\"M562,154.0 L558,146.0 566,146.0\" fill=\"currentColor\"/>\n",
       "</g>\n",
       "\n",
       "<g class=\"displacy-arrow\">\n",
       "    <path class=\"displacy-arc\" id=\"arrow-fb8df903495e47d585a192714fa3567f-0-5\" stroke-width=\"2px\" d=\"M362,152.0 362,102.0 650.0,102.0 650.0,152.0\" fill=\"none\" stroke=\"currentColor\"/>\n",
       "    <text dy=\"1.25em\" style=\"font-size: 0.8em; letter-spacing: 1px\">\n",
       "        <textPath xlink:href=\"#arrow-fb8df903495e47d585a192714fa3567f-0-5\" class=\"displacy-label\" startOffset=\"50%\" side=\"left\" fill=\"currentColor\" text-anchor=\"middle\">dobj</textPath>\n",
       "    </text>\n",
       "    <path class=\"displacy-arrowhead\" d=\"M650.0,154.0 L654.0,146.0 646.0,146.0\" fill=\"currentColor\"/>\n",
       "</g>\n",
       "</svg></span>"
      ],
      "text/plain": [
       "<IPython.core.display.HTML object>"
      ]
     },
     "metadata": {},
     "output_type": "display_data"
    }
   ],
   "source": [
    "doc = nlp(text)\n",
    "from spacy import displacy\n",
    "displacy.render(doc, style=\"dep\", jupyter=True, options={\"distance\": 100, \"compact\": True})"
   ]
  },
  {
   "cell_type": "code",
   "execution_count": 8,
   "metadata": {},
   "outputs": [
    {
     "name": "stdout",
     "output_type": "stream",
     "text": [
      "([The, language]) model <- predicted\n",
      "([the, next]) word <- predicted\n"
     ]
    },
    {
     "data": {
      "image/png": "[encoded data removed]",
      "text/plain": [
       "<Figure size 640x480 with 1 Axes>"
      ]
     },
     "metadata": {},
     "output_type": "display_data"
    }
   ],
   "source": [
    "def visualize_deps(doc):\n",
    "    for token in doc:\n",
    "        children = [child for child in token.children]\n",
    "        if len(children) == 0 or token.text == token.head.text:\n",
    "            continue\n",
    "        print(f\"({children}) {token.text} <- {token.head.text}\")\n",
    "\n",
    "visualize_deps(doc)\n",
    "\n",
    "import networkx as nx\n",
    "import matplotlib.pyplot as plt\n",
    "\n",
    "def visualize_deps_nx(doc):\n",
    "    G = nx.Graph()\n",
    "    for token in doc:\n",
    "        children = [child for child in token.children]\n",
    "        for child in children:\n",
    "            G.add_edge(token.text, child.text)\n",
    "    nx.draw(G, with_labels=True, node_color='lightblue', node_size=1500, alpha=1)\n",
    "    plt.show()\n",
    "\n",
    "visualize_deps_nx(doc)"
   ]
  },
  {
   "cell_type": "markdown",
   "metadata": {},
   "source": [
    "**2. What is the root of the sentence? Attempt to spot it yourself, but the answer should be done by code**"
   ]
  },
  {
   "cell_type": "code",
   "execution_count": 9,
   "metadata": {},
   "outputs": [
    {
     "data": {
      "text/plain": [
       "('predicted', 'VERB')"
      ]
     },
     "execution_count": 9,
     "metadata": {},
     "output_type": "execute_result"
    }
   ],
   "source": [
    "# TODO: implement a function to find the root of the document\n",
    "# Return both the word and its POS tag\n",
    "doc = nlp(text)\n",
    "def find_root(doc):\n",
    "    for token in doc:\n",
    "        if token.dep_ == \"ROOT\":\n",
    "            return token.text, token.pos_\n",
    "find_root(doc)"
   ]
  },
  {
   "cell_type": "code",
   "execution_count": 10,
   "metadata": {},
   "outputs": [
    {
     "name": "stdout",
     "output_type": "stream",
     "text": [
      "The root is: predicted (VERB)\n"
     ]
    }
   ],
   "source": [
    "def get_root(doc):\n",
    "    for token in doc:\n",
    "        if token.head == token:\n",
    "            return token\n",
    "    return None\n",
    "doc = nlp(text)\n",
    "root = get_root(doc)\n",
    "print(f\"The root is: {root.text} ({root.pos_})\")"
   ]
  },
  {
   "cell_type": "markdown",
   "metadata": {},
   "source": [
    "**3. Write a function to get the subject and object of a sentence. Print the results for the sentence above.**"
   ]
  },
  {
   "cell_type": "code",
   "execution_count": 11,
   "metadata": {},
   "outputs": [],
   "source": [
    "# TODO: implement a function to find the subjects + objects in the document"
   ]
  },
  {
   "cell_type": "code",
   "execution_count": 12,
   "metadata": {},
   "outputs": [
    {
     "name": "stdout",
     "output_type": "stream",
     "text": [
      "Subjects: ['model']\n",
      "Objects: ['word']\n"
     ]
    }
   ],
   "source": [
    "def get_subject_object(doc):\n",
    "    subjects = [t for t in doc if \"subj\" in t.dep_]\n",
    "    objects = [t for t in doc if \"obj\" in t.dep_]\n",
    "    return subjects, objects\n",
    "subjects, objects = get_subject_object(doc)\n",
    "print(f\"Subjects: {[t.text for t in subjects]}\")\n",
    "print(f\"Objects: {[t.text for t in objects]}\")"
   ]
  },
  {
   "cell_type": "markdown",
   "metadata": {},
   "source": [
    "**4. How would you use the relationships extracted from dependency parsing in language modeling contexts?**"
   ]
  },
  {
   "cell_type": "markdown",
   "metadata": {},
   "source": [
    "Fully open question, but expect answers such as:\n",
    "- Using the structure, similarly to pos chunking\n",
    "- Enforcing certain grammatical rules\n",
    "- Extracting relationships, to better understand the context of the sentence"
   ]
  },
  {
   "cell_type": "markdown",
   "metadata": {},
   "source": [
    "___"
   ]
  },
  {
   "cell_type": "markdown",
   "metadata": {},
   "source": [
    "# Wordnet"
   ]
  },
  {
   "cell_type": "markdown",
   "metadata": {},
   "source": [
    "**1. Use Wordnet (from NLTK) and create a function to get all synonyms of a word of your choice. Try with \"language\"**"
   ]
  },
  {
   "cell_type": "code",
   "execution_count": 13,
   "metadata": {},
   "outputs": [],
   "source": [
    "from nltk.corpus import wordnet as wn\n",
    "# TODO: find synonyms"
   ]
  },
  {
   "cell_type": "code",
   "execution_count": 14,
   "metadata": {},
   "outputs": [
    {
     "data": {
      "text/plain": [
       "['language',\n",
       " 'linguistic_communication',\n",
       " 'linguistic_process',\n",
       " 'lyric',\n",
       " 'nomenclature',\n",
       " 'oral_communication',\n",
       " 'speech',\n",
       " 'speech_communication',\n",
       " 'spoken_communication',\n",
       " 'spoken_language',\n",
       " 'terminology',\n",
       " 'voice_communication',\n",
       " 'words']"
      ]
     },
     "execution_count": 14,
     "metadata": {},
     "output_type": "execute_result"
    }
   ],
   "source": [
    "# LF\n",
    "\n",
    "from nltk.corpus import wordnet as wn\n",
    "def get_synonyms(word):\n",
    "    synonyms = []\n",
    "    for synset in wn.synsets(word):\n",
    "        synonyms.extend(synset.lemma_names())\n",
    "    return sorted(list(set(synonyms)))\n",
    "\n",
    "get_synonyms(\"language\")"
   ]
  },
  {
   "cell_type": "markdown",
   "metadata": {},
   "source": [
    "**2. From the same word you chose, extract an additional 4 or more features from wordnet (such as hyponyms). Describe each category briefly.**"
   ]
  },
  {
   "cell_type": "code",
   "execution_count": 15,
   "metadata": {},
   "outputs": [
    {
     "data": {
      "text/plain": [
       "{'lemma_names': {'language',\n",
       "  'linguistic_communication',\n",
       "  'linguistic_process',\n",
       "  'lyric',\n",
       "  'nomenclature',\n",
       "  'oral_communication',\n",
       "  'speech',\n",
       "  'speech_communication',\n",
       "  'spoken_communication',\n",
       "  'spoken_language',\n",
       "  'terminology',\n",
       "  'voice_communication',\n",
       "  'words'},\n",
       " 'definition': {'(language) communication by word of mouth',\n",
       "  'a system of words used to name things in a particular discipline',\n",
       "  'a systematic means of communicating by the use of sounds or conventional symbols',\n",
       "  'the cognitive processes involved in producing and understanding linguistic communication',\n",
       "  'the mental faculty or power of vocal communication',\n",
       "  'the text of a popular song or musical-comedy number'},\n",
       " 'hypernyms': {Synset('auditory_communication.n.01'),\n",
       "  Synset('communication.n.02'),\n",
       "  Synset('faculty.n.01'),\n",
       "  Synset('higher_cognitive_process.n.01'),\n",
       "  Synset('text.n.01'),\n",
       "  Synset('word.n.01')},\n",
       " 'hyponyms': {Synset('artificial_language.n.01'),\n",
       "  Synset('barrage.n.01'),\n",
       "  Synset('conversation.n.01'),\n",
       "  Synset('dead_language.n.01'),\n",
       "  Synset('dictation.n.02'),\n",
       "  Synset('discussion.n.02'),\n",
       "  Synset('idiolect.n.01'),\n",
       "  Synset('indigenous_language.n.01'),\n",
       "  Synset('lingua_franca.n.01'),\n",
       "  Synset('love_lyric.n.01'),\n",
       "  Synset('markup_language.n.01'),\n",
       "  Synset('metalanguage.n.01'),\n",
       "  Synset('monologue.n.02'),\n",
       "  Synset('native_language.n.01'),\n",
       "  Synset('natural_language.n.01'),\n",
       "  Synset('non-standard_speech.n.01'),\n",
       "  Synset('object_language.n.02'),\n",
       "  Synset('pronunciation.n.02'),\n",
       "  Synset('reading.n.01'),\n",
       "  Synset('saying.n.01'),\n",
       "  Synset('sign_language.n.01'),\n",
       "  Synset('slanguage.n.01'),\n",
       "  Synset('soliloquy.n.01'),\n",
       "  Synset('source_language.n.01'),\n",
       "  Synset('spell.n.04'),\n",
       "  Synset('string_of_words.n.01'),\n",
       "  Synset('superstrate.n.02'),\n",
       "  Synset('toponymy.n.01'),\n",
       "  Synset('usage.n.03'),\n",
       "  Synset('words.n.01'),\n",
       "  Synset('words.n.03')}}"
      ]
     },
     "execution_count": 15,
     "metadata": {},
     "output_type": "execute_result"
    }
   ],
   "source": [
    "from collections import defaultdict\n",
    "def get_wordnet_features(word):\n",
    "    features = defaultdict(list)\n",
    "    for synset in wn.synsets(word):\n",
    "        features[\"lemma_names\"].extend(synset.lemma_names())\n",
    "        features[\"definition\"].append(synset.definition())\n",
    "        features[\"hypernyms\"].extend(synset.hypernyms())\n",
    "        features[\"hyponyms\"].extend(synset.hyponyms())\n",
    "    return {k: set(v) for k, v in features.items()}\n",
    "\n",
    "get_wordnet_features(\"language\")"
   ]
  },
  {
   "cell_type": "markdown",
   "metadata": {},
   "source": [
    "___"
   ]
  },
  {
   "cell_type": "markdown",
   "metadata": {},
   "source": [
    "# Machine Learning Exercise - A sentiment classifier\n",
    "- A rule-based approach with SentiWordNet + A machine learning classifier"
   ]
  },
  {
   "cell_type": "markdown",
   "metadata": {},
   "source": [
    "**1. There are several steps required to build a classifier or any sort of machine learning application for textual data. For data including (INPUT_TEXT, LABEL), list the typical pipeline for classification.**"
   ]
  },
  {
   "cell_type": "markdown",
   "metadata": {},
   "source": [
    "Expect an answer including details from the figures in either NLTK chapter 6 or Kochmar's book, chapter 7.\n",
    "\n",
    "Select data -> preprocess -> split into train/test -> extract features -> train classifier and evalute\n"
   ]
  },
  {
   "cell_type": "markdown",
   "metadata": {},
   "source": [
    "**2. Before developing a classifier, having a baseline is very useful. Build a baseline model for sentiment classification using SentiWordNet.**\n",
    "- How you decide to aggregate sentiment is up to you. Explain your approach.\n",
    "- It should report the accuracy of the classifier."
   ]
  },
  {
   "cell_type": "code",
   "execution_count": 16,
   "metadata": {},
   "outputs": [],
   "source": [
    "from nltk.corpus import sentiwordnet as swn\n",
    "from nltk.corpus import wordnet as wn\n",
    "import spacy\n",
    "nlp = spacy.load(\"en_core_web_sm\")\n",
    "universal_to_wn = {\"NOUN\": \"n\", \"VERB\": \"v\", \"ADJ\": \"a\", \"ADV\": \"r\"}\n",
    "\n",
    "def get_sentiment(word, pos=None):\n",
    "    if pos not in universal_to_wn.keys():\n",
    "        return 0\n",
    "    sentiment = 0\n",
    "    if len(wn.synsets(word)) == 0:\n",
    "        return sentiment # neutral\n",
    "    for synset in wn.synsets(word, pos=universal_to_wn[pos]):\n",
    "        ssyn = swn.senti_synset(synset.name())\n",
    "        tmp_sent = ssyn.pos_score() - ssyn.neg_score()\n",
    "        sentiment += tmp_sent\n",
    "    # average score of all synsets\n",
    "    avg_word_score = sentiment / len(wn.synsets(word))\n",
    "    scaling_factor = 2\n",
    "    return avg_word_score * scaling_factor\n",
    "\n",
    "def get_sentiment_from_sent(sent):\n",
    "    doc = nlp(sent)\n",
    "    tagged = [(token.text, token.pos_) for token in doc if token.is_alpha]\n",
    "    sentiment = sum([get_sentiment(word, tag) for (word, tag) in tagged])\n",
    "\n",
    "    # spacy, get only words/alpha\n",
    "    valid_words = [w for w in doc if w.is_alpha]\n",
    "    num_words = len(valid_words) or 1\n",
    "    return sentiment / num_words\n",
    "\n",
    "def get_sentiment_label(sent, threshold=0.5, ternary=False):\n",
    "    sentiment = get_sentiment_from_sent(sent)\n",
    "    label = 0\n",
    "    if ternary and sentiment < -threshold:\n",
    "        label = -1\n",
    "    elif sentiment > threshold:\n",
    "        label = 1\n",
    "    return label\n"
   ]
  },
  {
   "cell_type": "code",
   "execution_count": 17,
   "metadata": {},
   "outputs": [],
   "source": [
    "some_sents = [\n",
    "    \"I liked it! Did you?\",\n",
    "    \"It's not bad but... Nevermind, it is.\",\n",
    "    \"It's awful\",\n",
    "    \"I don't care if you loved it - it was terrible!\",\n",
    "    \"I don't care if you hated it, I think it was awesome\"\n",
    "]\n",
    "y_true = [1, 0, 0, 0, 1]\n",
    "# 0: negative, 1: positive"
   ]
  },
  {
   "cell_type": "markdown",
   "metadata": {},
   "source": [
    "## Evaluation"
   ]
  },
  {
   "cell_type": "code",
   "execution_count": 18,
   "metadata": {},
   "outputs": [
    {
     "data": {
      "text/plain": [
       "0.6"
      ]
     },
     "execution_count": 18,
     "metadata": {},
     "output_type": "execute_result"
    }
   ],
   "source": [
    "from sklearn.metrics import accuracy_score\n",
    "from typing import List\n",
    "\n",
    "some_sents = [\n",
    "    \"I liked it! Did you?\",\n",
    "    \"It's not bad but... Nevermind, it is.\",\n",
    "    \"It's awful\",\n",
    "    \"I don't care if you loved it - it was terrible!\",\n",
    "    \"I don't care if you hated it, I think it was awesome\"\n",
    "]\n",
    "# 0: negative, 1: positive\n",
    "true_labels = [1, 0, 0, 0, 1]\n",
    "\n",
    "############################\n",
    "# THIS IS ONLY AN EXAMPLE\n",
    "# FEEL FREE TO CHANGE IT\n",
    "############################\n",
    "class MyRulebasedSentimentBaseline:\n",
    "    def __init__(self):\n",
    "        pass\n",
    "\n",
    "    def predict(self, data) -> List[int]:\n",
    "        # returns 0 for negative, 1 for positive\n",
    "        # TODO: implement\n",
    "        return [0 for _ in data]\n",
    "\n",
    "    def evaluate(self, data, true_labels):\n",
    "        preds = self.predict(data)\n",
    "        return accuracy_score(true_labels, preds)\n",
    "\n",
    "# TODO: get the sentiment labels for the sentences and evaluate\n",
    "baseline = MyRulebasedSentimentBaseline()\n",
    "baseline.evaluate(some_sents, y_true)\n"
   ]
  },
  {
   "cell_type": "code",
   "execution_count": 19,
   "metadata": {},
   "outputs": [
    {
     "data": {
      "text/plain": [
       "0.6"
      ]
     },
     "execution_count": 19,
     "metadata": {},
     "output_type": "execute_result"
    }
   ],
   "source": [
    "# LF \n",
    "from typing import List\n",
    "\n",
    "class MyRulebasedSentimentBaseline:\n",
    "    def __init__(self):\n",
    "        pass\n",
    "\n",
    "    def predict(self, data) -> List[int]:\n",
    "        # returns 0 for negative, 1 for positive\n",
    "        return [get_sentiment_label(s, threshold=0.2) for s in data]\n",
    "\n",
    "    def evaluate(self, data, true_labels):\n",
    "        preds = self.predict(data)\n",
    "        return accuracy_score(true_labels, preds)\n",
    "\n",
    "baseline = MyRulebasedSentimentBaseline()\n",
    "baseline.evaluate(some_sents, true_labels)"
   ]
  },
  {
   "cell_type": "markdown",
   "metadata": {},
   "source": [
    "## Load SST-2 binary sentiment dataset"
   ]
  },
  {
   "cell_type": "code",
   "execution_count": 20,
   "metadata": {},
   "outputs": [
    {
     "name": "stdout",
     "output_type": "stream",
     "text": [
      "1    4446\n",
      "0    3554\n",
      "Name: label, dtype: int64\n"
     ]
    },
    {
     "data": {
      "text/html": [
       "<div>\n",
       "<style scoped>\n",
       "    .dataframe tbody tr th:only-of-type {\n",
       "        vertical-align: middle;\n",
       "    }\n",
       "\n",
       "    .dataframe tbody tr th {\n",
       "        vertical-align: top;\n",
       "    }\n",
       "\n",
       "    .dataframe thead th {\n",
       "        text-align: right;\n",
       "    }\n",
       "</style>\n",
       "<table border=\"1\" class=\"dataframe\">\n",
       "  <thead>\n",
       "    <tr style=\"text-align: right;\">\n",
       "      <th></th>\n",
       "      <th>sentence</th>\n",
       "      <th>label</th>\n",
       "    </tr>\n",
       "  </thead>\n",
       "  <tbody>\n",
       "    <tr>\n",
       "      <th>30591</th>\n",
       "      <td>the wonderfully lush morvern callar is pure pu...</td>\n",
       "      <td>1</td>\n",
       "    </tr>\n",
       "    <tr>\n",
       "      <th>62746</th>\n",
       "      <td>daring and verve</td>\n",
       "      <td>1</td>\n",
       "    </tr>\n",
       "    <tr>\n",
       "      <th>44522</th>\n",
       "      <td>an exhausted , desiccated talent who ca n't ge...</td>\n",
       "      <td>0</td>\n",
       "    </tr>\n",
       "    <tr>\n",
       "      <th>14007</th>\n",
       "      <td>) debut can be accused of being a bit undiscip...</td>\n",
       "      <td>0</td>\n",
       "    </tr>\n",
       "    <tr>\n",
       "      <th>23429</th>\n",
       "      <td>dark , gritty , sometimes funny little gem</td>\n",
       "      <td>1</td>\n",
       "    </tr>\n",
       "  </tbody>\n",
       "</table>\n",
       "</div>"
      ],
      "text/plain": [
       "                                                sentence  label\n",
       "30591  the wonderfully lush morvern callar is pure pu...      1\n",
       "62746                                  daring and verve       1\n",
       "44522  an exhausted , desiccated talent who ca n't ge...      0\n",
       "14007  ) debut can be accused of being a bit undiscip...      0\n",
       "23429        dark , gritty , sometimes funny little gem       1"
      ]
     },
     "execution_count": 20,
     "metadata": {},
     "output_type": "execute_result"
    }
   ],
   "source": [
    "from sklearn.model_selection import train_test_split\n",
    "from datasets import load_dataset\n",
    "dataset = load_dataset(\"sst2\")\n",
    "\n",
    "train_df = dataset[\"train\"].to_pandas().drop(columns=[\"idx\"])\n",
    "# we select a tiny subset\n",
    "train_df = train_df.sample(10000)\n",
    "# create your own test split\n",
    "train_df, test_df = train_test_split(train_df, test_size=0.2, random_state=42)\n",
    "print(train_df.label.value_counts())\n",
    "train_df.head()"
   ]
  },
  {
   "cell_type": "code",
   "execution_count": 21,
   "metadata": {},
   "outputs": [
    {
     "name": "stdout",
     "output_type": "stream",
     "text": [
      "1    1087\n",
      "0     913\n",
      "Name: label, dtype: int64\n"
     ]
    },
    {
     "data": {
      "text/html": [
       "<div>\n",
       "<style scoped>\n",
       "    .dataframe tbody tr th:only-of-type {\n",
       "        vertical-align: middle;\n",
       "    }\n",
       "\n",
       "    .dataframe tbody tr th {\n",
       "        vertical-align: top;\n",
       "    }\n",
       "\n",
       "    .dataframe thead th {\n",
       "        text-align: right;\n",
       "    }\n",
       "</style>\n",
       "<table border=\"1\" class=\"dataframe\">\n",
       "  <thead>\n",
       "    <tr style=\"text-align: right;\">\n",
       "      <th></th>\n",
       "      <th>sentence</th>\n",
       "      <th>label</th>\n",
       "    </tr>\n",
       "  </thead>\n",
       "  <tbody>\n",
       "    <tr>\n",
       "      <th>32641</th>\n",
       "      <td>do anything as stomach-turning as the way adam...</td>\n",
       "      <td>0</td>\n",
       "    </tr>\n",
       "    <tr>\n",
       "      <th>55204</th>\n",
       "      <td>thoroughly entertaining comedy that</td>\n",
       "      <td>1</td>\n",
       "    </tr>\n",
       "    <tr>\n",
       "      <th>42800</th>\n",
       "      <td>would call it , ` hungry-man portions of bad '</td>\n",
       "      <td>0</td>\n",
       "    </tr>\n",
       "    <tr>\n",
       "      <th>28561</th>\n",
       "      <td>into the subculture of extreme athletes whose ...</td>\n",
       "      <td>1</td>\n",
       "    </tr>\n",
       "    <tr>\n",
       "      <th>16033</th>\n",
       "      <td>disappointing</td>\n",
       "      <td>0</td>\n",
       "    </tr>\n",
       "  </tbody>\n",
       "</table>\n",
       "</div>"
      ],
      "text/plain": [
       "                                                sentence  label\n",
       "32641  do anything as stomach-turning as the way adam...      0\n",
       "55204               thoroughly entertaining comedy that       1\n",
       "42800    would call it , ` hungry-man portions of bad '       0\n",
       "28561  into the subculture of extreme athletes whose ...      1\n",
       "16033                                     disappointing       0"
      ]
     },
     "execution_count": 21,
     "metadata": {},
     "output_type": "execute_result"
    }
   ],
   "source": [
    "print(test_df.label.value_counts())\n",
    "test_df.head()"
   ]
  },
  {
   "cell_type": "code",
   "execution_count": 22,
   "metadata": {},
   "outputs": [
    {
     "name": "stdout",
     "output_type": "stream",
     "text": [
      "Random guess accuracy: 0.4975\n"
     ]
    }
   ],
   "source": [
    "import random\n",
    "test_sentences = test_df[\"sentence\"].tolist()\n",
    "y_test = test_df[\"label\"].tolist()\n",
    "y_pred = [random.choice([0, 1]) for _ in test_sentences]\n",
    "print(f\"Random guess accuracy: {accuracy_score(y_test, y_pred)}\")"
   ]
  },
  {
   "cell_type": "code",
   "execution_count": 24,
   "metadata": {},
   "outputs": [
    {
     "data": {
      "text/plain": [
       "0.5205"
      ]
     },
     "execution_count": 24,
     "metadata": {},
     "output_type": "execute_result"
    }
   ],
   "source": [
    "# TODO: evaluate your baseline\n",
    "baseline = MyRulebasedSentimentBaseline()\n",
    "baseline.evaluate(test_sentences, y_test)"
   ]
  },
  {
   "cell_type": "markdown",
   "metadata": {},
   "source": [
    "**Did you beat random guess?**\n",
    "\n",
    "If not, can you think of any reasons why?"
   ]
  },
  {
   "cell_type": "markdown",
   "metadata": {},
   "source": [
    "Your answer here!"
   ]
  },
  {
   "cell_type": "markdown",
   "metadata": {},
   "source": [
    "## Classification with Naive Bayes and TF-IDF"
   ]
  },
  {
   "cell_type": "code",
   "execution_count": 25,
   "metadata": {},
   "outputs": [],
   "source": [
    "# TODO: use scikit-learn to...\n",
    "# - normalize\n",
    "# - vectorize\n",
    "# - extract features\n",
    "# - train a classifier\n",
    "# - evaluate the classifier using `classification_report` and `accuracy`\n",
    "# \n",
    "# expect an accuracy of > 0.8"
   ]
  },
  {
   "cell_type": "code",
   "execution_count": 26,
   "metadata": {},
   "outputs": [
    {
     "name": "stdout",
     "output_type": "stream",
     "text": [
      "              precision    recall  f1-score   support\n",
      "\n",
      "           0       0.86      0.71      0.78       913\n",
      "           1       0.79      0.91      0.84      1087\n",
      "\n",
      "    accuracy                           0.82      2000\n",
      "   macro avg       0.83      0.81      0.81      2000\n",
      "weighted avg       0.82      0.82      0.81      2000\n",
      "\n",
      "Accuracy: 0.817\n"
     ]
    }
   ],
   "source": [
    "from sklearn.feature_extraction.text import CountVectorizer\n",
    "from sklearn.feature_extraction.text import TfidfTransformer\n",
    "from sklearn.pipeline import Pipeline\n",
    "from sklearn.naive_bayes import MultinomialNB\n",
    "from sklearn.metrics import classification_report\n",
    "\n",
    "\n",
    "pipe = Pipeline([\n",
    "    ('vect', CountVectorizer()),\n",
    "    ('tfidf', TfidfTransformer()),\n",
    "    ('clf', MultinomialNB()),\n",
    "])\n",
    "\n",
    "train_sentences = train_df[\"sentence\"].tolist()\n",
    "y_true = train_df[\"label\"].tolist()\n",
    "\n",
    "test_sentences = test_df[\"sentence\"].tolist()\n",
    "y_test = test_df[\"label\"].tolist()\n",
    "\n",
    "pipe.fit(train_sentences, y_true)\n",
    "y_pred = pipe.predict(test_sentences)\n",
    "print(classification_report(y_test, y_pred))\n",
    "print(f\"Accuracy: {accuracy_score(y_test, y_pred)}\")"
   ]
  },
  {
   "cell_type": "markdown",
   "metadata": {},
   "source": [
    "## Optional task: using a pre-trained transformer model\n",
    "If you wish to push the accuracy as far as you can, take a look at BERT-based or other pre-trained language models. As a starting point, take a look at a model already fine-tuned on the SST-2 dataset: [DistilBERT](https://huggingface.co/distilbert/distilbert-base-uncased-finetuned-sst-2-english)\n",
    "\n",
    "**Advanced:**\n",
    "\n",
    "Going beyond this, you could look into the addition of a *classification head* on top of the pooling layer of a BERT-based model. This is a common approach to fine-tuning these models on classification or regression problems."
   ]
  }
 ],
 "metadata": {
  "kernelspec": {
   "display_name": "Python 3",
   "language": "python",
   "name": "python3"
  },
  "language_info": {
   "codemirror_mode": {
    "name": "ipython",
    "version": 3
   },
   "file_extension": ".py",
   "mimetype": "text/x-python",
   "name": "python",
   "nbconvert_exporter": "python",
   "pygments_lexer": "ipython3",
   "version": "3.11.8"
  }
 },
 "nbformat": 4,
 "nbformat_minor": 2
}
