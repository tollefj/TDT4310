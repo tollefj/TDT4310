{
 "cells": [
  {
   "cell_type": "code",
   "execution_count": 1,
   "metadata": {},
   "outputs": [],
   "source": [
    "import nltk\n",
    "wordnet = nltk.corpus.wordnet"
   ]
  },
  {
   "cell_type": "code",
   "execution_count": 2,
   "metadata": {},
   "outputs": [
    {
     "name": "stdout",
     "output_type": "stream",
     "text": [
      "cup.n.01 a small open container usually used for drinking; usually has a handle\n",
      "cup.n.02 the quantity a cup will hold\n",
      "cup.n.03 any cup-shaped concavity\n",
      "cup.n.04 a United States liquid unit equal to 8 fluid ounces\n",
      "cup.n.05 cup-shaped plant organ\n",
      "cup.n.06 a punch served in a pitcher instead of a punch bowl\n",
      "cup.n.07 the hole (or metal container in the hole) on a golf green\n",
      "cup.n.08 a large metal vessel with two handles that is awarded as a trophy to the winner of a competition\n",
      "cup.v.01 form into the shape of a cup\n",
      "cup.v.02 put into a cup\n",
      "cup.v.03 treat by applying evacuated cups to the patient's skin\n"
     ]
    }
   ],
   "source": [
    "for synset in wordnet.synsets(\"cup\"):\n",
    "    print(synset.name(), synset.definition())"
   ]
  },
  {
   "cell_type": "code",
   "execution_count": 3,
   "metadata": {},
   "outputs": [
    {
     "name": "stdout",
     "output_type": "stream",
     "text": [
      "Hypernyms - More general terms:\n",
      "Synset('container.n.01')\n",
      "Synset('crockery.n.01')\n",
      "Hyponyms - More specific terms:\n",
      "Synset('beaker.n.02')\n",
      "Synset('chalice.n.01')\n",
      "Synset('coffee_cup.n.01')\n",
      "Synset('dixie_cup.n.01')\n",
      "Synset('grace_cup.n.01')\n",
      "Synset('kylix.n.01')\n",
      "Synset('mustache_cup.n.01')\n",
      "Synset('scyphus.n.01')\n",
      "Synset('teacup.n.02')\n"
     ]
    }
   ],
   "source": [
    "drinking_cup = wordnet.synset('cup.n.01')\n",
    "print(\"Hypernyms - More general terms:\")\n",
    "for hypernym in drinking_cup.hypernyms():\n",
    "    print(hypernym)\n",
    "print(\"Hyponyms - More specific terms:\")\n",
    "for hyponym in drinking_cup.hyponyms():\n",
    "    print(hyponym)"
   ]
  },
  {
   "cell_type": "code",
   "execution_count": 4,
   "metadata": {},
   "outputs": [
    {
     "data": {
      "text/plain": [
       "Synset('bowl.n.01')"
      ]
     },
     "execution_count": 4,
     "metadata": {},
     "output_type": "execute_result"
    }
   ],
   "source": [
    "def find_synset(word):\n",
    "    synsets = wordnet.synsets(word)\n",
    "    return synsets[0]\n",
    "\n",
    "find_synset(\"bowl\")"
   ]
  },
  {
   "cell_type": "code",
   "execution_count": 5,
   "metadata": {},
   "outputs": [
    {
     "data": {
      "text/plain": [
       "[Synset('entity.n.01'),\n",
       " Synset('object.n.01'),\n",
       " Synset('tableware.n.01'),\n",
       " Synset('instrumentality.n.03'),\n",
       " Synset('ware.n.01'),\n",
       " Synset('whole.n.02'),\n",
       " Synset('container.n.01'),\n",
       " Synset('artifact.n.01'),\n",
       " Synset('article.n.02'),\n",
       " Synset('physical_entity.n.01')]"
      ]
     },
     "execution_count": 5,
     "metadata": {},
     "output_type": "execute_result"
    }
   ],
   "source": [
    "drinking_cup.common_hypernyms(find_synset(\"spoon\"))"
   ]
  },
  {
   "cell_type": "code",
   "execution_count": 6,
   "metadata": {},
   "outputs": [
    {
     "name": "stdout",
     "output_type": "stream",
     "text": [
      "this\n",
      "\tno synsets found for this\n",
      "\n",
      "lecture\n",
      "Synset('lecture.n.01') -- a speech that is open to the public\n",
      "\t - 'he attended a lecture on telecommunications'\n",
      "Synset('lecture.n.02') -- a lengthy rebuke\n",
      "\t - 'a good lecture was my father's idea of discipline'\n",
      "\t - 'the teacher gave him a talking to'\n",
      "Synset('lecture.n.03') -- teaching by giving a discourse on some subject (typically to a class)\n",
      "Synset('lecture.v.01') -- deliver a lecture or talk\n",
      "\t - 'She will talk at Rutgers next week'\n",
      "\t - 'Did you ever lecture at Harvard?'\n",
      "Synset('call_on_the_carpet.v.01') -- censure severely or angrily\n",
      "\t - 'The mother scolded the child for entering a stranger's car'\n",
      "\t - 'The deputy ragged the Prime Minister'\n",
      "\t - 'The customer dressed down the waiter for bringing cold soup'\n",
      "\n",
      "describes\n",
      "Synset('describe.v.01') -- give a description of\n",
      "\t - 'He drew an elaborate plan of attack'\n",
      "Synset('report.v.01') -- to give an account or representation of in words\n",
      "\t - 'Discreet Italian police described it in a manner typically continental'\n",
      "Synset('trace.v.02') -- make a mark or lines on a surface\n",
      "\t - 'draw a line'\n",
      "\t - 'trace the outline of a figure in the sand'\n",
      "Synset('identify.v.05') -- identify as in botany or biology, for example\n",
      "\n",
      "some\n",
      "Synset('some.a.01') -- quantifier; used with either mass nouns or plural count nouns to indicate an unspecified number or quantity\n",
      "\t - 'have some milk'\n",
      "\t - 'some roses were still blooming'\n",
      "\t - 'having some friends over'\n",
      "\t - 'some apples'\n",
      "\t - 'some paper'\n",
      "Synset('some.s.02') -- relatively much but unspecified in amount or extent\n",
      "\t - 'we talked for some time'\n",
      "\t - 'he was still some distance away'\n",
      "Synset('some.s.03') -- relatively many but unspecified in number\n",
      "\t - 'they were here for some weeks'\n",
      "\t - 'we did not meet again for some years'\n",
      "Synset('some.s.04') -- remarkable\n",
      "\t - 'that was some party'\n",
      "\t - 'she is some skier'\n",
      "Synset('approximately.r.01') -- (of quantities) imprecise but fairly close to correct\n",
      "\t - 'lasted approximately an hour'\n",
      "\t - 'in just about a minute'\n",
      "\t - 'he's about 30 years old'\n",
      "\t - 'I've had about all I can stand'\n",
      "\t - 'we meet about once a month'\n",
      "\t - 'some forty people came'\n",
      "\t - 'weighs around a hundred pounds'\n",
      "\t - 'roughly $3,000'\n",
      "\t - 'holds 3 gallons, more or less'\n",
      "\t - '20 or so people were at the party'\n",
      "\n",
      "concepts\n",
      "Synset('concept.n.01') -- an abstract or general idea inferred or derived from specific instances\n",
      "\n",
      "within\n",
      "Synset('inside.r.02') -- on the inside\n",
      "\t - 'inside, the car is a mess'\n",
      "\n",
      "computational\n",
      "Synset('computational.a.01') -- of or involving computation or computers\n",
      "\t - 'computational linguistics'\n",
      "\n",
      "linguistics\n",
      "Synset('linguistics.n.01') -- the scientific study of language\n",
      "Synset('linguistics.n.02') -- the humanistic study of language and literature\n",
      "\n"
     ]
    }
   ],
   "source": [
    "s = \"this lecture describes some concepts within computational linguistics\"\n",
    "for word in s.split():\n",
    "    print(word)\n",
    "    synsets = wordnet.synsets(word)\n",
    "    if len(synsets) == 0:\n",
    "        print(f\"\\tno synsets found for {word}\")\n",
    "    for syn in synsets:\n",
    "        print(f\"{syn} -- {syn.definition()}\")\n",
    "        examples = syn.examples()\n",
    "        for example in examples:\n",
    "            print(f\"\\t - '{example}'\")\n",
    "    print()"
   ]
  },
  {
   "cell_type": "code",
   "execution_count": 7,
   "metadata": {},
   "outputs": [
    {
     "name": "stdout",
     "output_type": "stream",
     "text": [
      "<guarantee.n.01: PosScore=0.0 NegScore=0.0>\n",
      "Positive score: 0.0\n",
      "Negative score: 0.0\n",
      "Objective score: 1.0\n",
      "\n",
      "<guarantee.n.02: PosScore=0.0 NegScore=0.0>\n",
      "Positive score: 0.0\n",
      "Negative score: 0.0\n",
      "Objective score: 1.0\n",
      "\n",
      "<guarantee.n.03: PosScore=0.0 NegScore=0.0>\n",
      "Positive score: 0.0\n",
      "Negative score: 0.0\n",
      "Objective score: 1.0\n",
      "\n",
      "<guarantee.v.01: PosScore=0.0 NegScore=0.0>\n",
      "Positive score: 0.0\n",
      "Negative score: 0.0\n",
      "Objective score: 1.0\n",
      "\n",
      "<guarantee.v.02: PosScore=0.0 NegScore=0.0>\n",
      "Positive score: 0.0\n",
      "Negative score: 0.0\n",
      "Objective score: 1.0\n",
      "\n",
      "<undertake.v.03: PosScore=0.0 NegScore=0.25>\n",
      "Positive score: 0.0\n",
      "Negative score: 0.25\n",
      "Objective score: 0.75\n",
      "\n",
      "<guarantee.v.04: PosScore=0.5 NegScore=0.0>\n",
      "Positive score: 0.5\n",
      "Negative score: 0.0\n",
      "Objective score: 0.5\n",
      "\n"
     ]
    }
   ],
   "source": [
    "# sentiwordnet example\n",
    "from nltk.corpus import sentiwordnet as swn\n",
    "\n",
    "for senti_synset in swn.senti_synsets(\"guarantee\"):\n",
    "    print(senti_synset)\n",
    "    print(f\"Positive score: {senti_synset.pos_score()}\")\n",
    "    print(f\"Negative score: {senti_synset.neg_score()}\")\n",
    "    print(f\"Objective score: {senti_synset.obj_score()}\")\n",
    "    print()"
   ]
  }
 ],
 "metadata": {
  "kernelspec": {
   "display_name": "Python 3",
   "language": "python",
   "name": "python3"
  },
  "language_info": {
   "codemirror_mode": {
    "name": "ipython",
    "version": 3
   },
   "file_extension": ".py",
   "mimetype": "text/x-python",
   "name": "python",
   "nbconvert_exporter": "python",
   "pygments_lexer": "ipython3",
   "version": "3.11.7"
  }
 },
 "nbformat": 4,
 "nbformat_minor": 2
}
