{
 "cells": [
  {
   "cell_type": "code",
   "execution_count": 34,
   "metadata": {},
   "outputs": [
    {
     "name": "stdout",
     "output_type": "stream",
     "text": [
      "Let's meet up at 2024-03-11 at 10:00 AM\n",
      "['2024-03-11 at 10:00 AM']\n",
      "Are you available for meeting on 15/04/2024?\n",
      "['15/04/2024']\n",
      "Were you in the lecture at 12/04/2024 at 08:00?\n",
      "['12/04/2024 at 08:00']\n"
     ]
    }
   ],
   "source": [
    "import re\n",
    "pattern_1 = r'\\d{4}-\\d{2}-\\d{2}(?: at \\d{2}:\\d{2} [AP]M)?'  # US-style (12h)\n",
    "pattern_2 = r'\\d{2}/\\d{2}/\\d{4}(?: at \\d{2}:\\d{2})?'  # EU-style (24h)\n",
    "\n",
    "def extract_timestamps(text):\n",
    "    matches = re.findall(pattern_1, text)\n",
    "    matches += re.findall(pattern_2, text)\n",
    "    return matches\n",
    "\n",
    "for sentence in [\n",
    "    \"Let's meet up at 2024-03-11 at 10:00 AM\",\n",
    "    \"Are you available for meeting on 15/04/2024?\",\n",
    "    \"Were you in the lecture at 12/04/2024 at 08:00?\"\n",
    "]:\n",
    "    print(sentence)\n",
    "    print(extract_timestamps(sentence))"
   ]
  },
  {
   "cell_type": "code",
   "execution_count": null,
   "metadata": {},
   "outputs": [],
   "source": []
  }
 ],
 "metadata": {
  "kernelspec": {
   "display_name": "Python 3",
   "language": "python",
   "name": "python3"
  },
  "language_info": {
   "codemirror_mode": {
    "name": "ipython",
    "version": 3
   },
   "file_extension": ".py",
   "mimetype": "text/x-python",
   "name": "python",
   "nbconvert_exporter": "python",
   "pygments_lexer": "ipython3",
   "version": "3.11.8"
  }
 },
 "nbformat": 4,
 "nbformat_minor": 2
}
