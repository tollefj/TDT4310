{
 "cells": [
  {
   "cell_type": "code",
   "execution_count": 1,
   "id": "1deba774-7a4d-458c-992a-84977f03be87",
   "metadata": {},
   "outputs": [],
   "source": [
    "import spacy\n",
    "nlp = spacy.load(\"en_core_web_sm\")"
   ]
  },
  {
   "cell_type": "code",
   "execution_count": 25,
   "id": "0e9c2f57-1f05-47a8-b6fa-f33db797db87",
   "metadata": {},
   "outputs": [],
   "source": [
    "text = \"\"\"\n",
    "The Dursleys had everything they wanted, but they also had a secret, and\n",
    "their greatest fear was that somebody would discover it. They didn't\n",
    "think they could bear it if anyone found out about the Potters. Mrs.\n",
    "Potter was Mrs. Dursley's sister, but they hadn't met for several years;\n",
    "in fact, Mrs. Dursley pretended she didn't have a sister, because her\n",
    "sister and her good-for-nothing husband were as unDursleyish as it was\n",
    "possible to be. The Dursleys shuddered to think what the neighbors would\n",
    "say if the Potters arrived in the street. The Dursleys knew that the\n",
    "Potters had a small son, too, but they had never even seen him. This boy\n",
    "was another good reason for keeping the Potters away; they didn't want\n",
    "Dudley mixing with a child like that.\n",
    "\"\"\""
   ]
  },
  {
   "cell_type": "code",
   "execution_count": 30,
   "id": "0d00f29b-70e9-44fc-8214-bdfc2a3eeb11",
   "metadata": {},
   "outputs": [
    {
     "data": {
      "text/plain": [
       "\"The Dursleys had everything they wanted, but they also had a secret, and their greatest fear was that somebody would discover it. They didn't think they could bear it if anyone found out about the Potters. Mrs. Potter was Mrs. Dursley's sister, but they hadn't met for several years; in fact, Mrs. Dursley pretended she didn't have a sister, because her sister and her good-for-nothing husband were as unDursleyish as it was possible to be. The Dursleys shuddered to think what the neighbors would say if the Potters arrived in the street. The Dursleys knew that the Potters had a small son, too, but they had never even seen him. This boy was another good reason for keeping the Potters away; they didn't want Dudley mixing with a child like that.\""
      ]
     },
     "execution_count": 30,
     "metadata": {},
     "output_type": "execute_result"
    }
   ],
   "source": [
    "text = text.replace(\"\\n\", \" \").strip()\n",
    "text"
   ]
  },
  {
   "cell_type": "code",
   "execution_count": 31,
   "id": "04968e4f-ac9d-4c97-ab1e-5dfe34d5fe11",
   "metadata": {},
   "outputs": [],
   "source": [
    "doc = nlp(text)"
   ]
  },
  {
   "cell_type": "code",
   "execution_count": 35,
   "id": "5cd7bf20-254e-4cff-8006-8b00f79eae59",
   "metadata": {},
   "outputs": [
    {
     "name": "stdout",
     "output_type": "stream",
     "text": [
      "                                          had                                                       \n",
      "  _________________________________________|________                                                 \n",
      " |   |     |         |                             had                                              \n",
      " |   |     |         |        ______________________|_________________________                       \n",
      " |   |     |     everything  |    |    |   |   |    |                        was                    \n",
      " |   |     |         |       |    |    |   |   |    |            _____________|______                \n",
      " |   |  Dursleys   wanted    |    |    |   |   |  secret       fear               discover          \n",
      " |   |     |         |       |    |    |   |   |    |       ____|______        ______|____________   \n",
      " ,  but   The       they    they also  ,  and  .    a    their      greatest that somebody would  it\n",
      "\n",
      "                      think                            \n",
      "  ______________________|________                       \n",
      " |    |   |   |                 bear                   \n",
      " |    |   |   |    ______________|_____                 \n",
      " |    |   |   |   |     |    |       found             \n",
      " |    |   |   |   |     |    |    _____|___________     \n",
      " |    |   |   |   |     |    |   |     |     |   about \n",
      " |    |   |   |   |     |    |   |     |     |     |    \n",
      " |    |   |   |   |     |    |   |     |     |  Potters\n",
      " |    |   |   |   |     |    |   |     |     |     |    \n",
      "They did n't  .  they could  it  if  anyone out   the  \n",
      "\n",
      "                                                                              pretended                                                                                                          \n",
      "  ________________________________________________________________________________|_____________________________________                                                                          \n",
      " |   |   |                               |                        |      |                                             have                                                                      \n",
      " |   |   |                               |                        |      |         _____________________________________|_______________________                                                  \n",
      " |   |   |                               |                        |      |        |      |   |   |    |                                        were                                              \n",
      " |   |   |                               |                        |      |        |      |   |   |    |        _________________________________|____________________________                     \n",
      " |   |   |                              was                       |      |        |      |   |   |    |       |             sister                                      unDursleyish             \n",
      " |   |   |    ___________________________|________                |      |        |      |   |   |    |       |      _________|___________                        ___________|________            \n",
      " |   |   |   |   |    |            |             met              |      |        |      |   |   |    |       |     |   |              husband                   |                   was         \n",
      " |   |   |   |   |    |            |          ____|_________      |      |        |      |   |   |    |       |     |   |      ___________|_____                 |    ________________|_____      \n",
      " |   |   |   |   |    |          sister      |    |   |    for    |      |        |      |   |   |    |       |     |   |     |                good              |   |                |  possible\n",
      " |   |   |   |   |    |            |         |    |   |     |     |      |        |      |   |   |    |       |     |   |     |      ___________|____            |   |                |     |     \n",
      " |   |   |   |   |  Potter      Dursley      |    |   |   years   in  Dursley     |      |   |   |  sister    |     |   |     |     |               for          |   |                |     be   \n",
      " |   |   |   |   |    |      ______|_____    |    |   |     |     |      |        |      |   |   |    |       |     |   |     |     |            ____|_____      |   |                |     |     \n",
      " ;   ,   .   ,  but  Mrs.  Mrs.          's they had n't several fact   Mrs.     she    did n't  ,    a    because her and   her    -           -       nothing  as  as               it    to   \n",
      "\n",
      "    shuddered                                             \n",
      "  ______|___________                                       \n",
      " |      |         think                                   \n",
      " |      |       ____|_____________                         \n",
      " |      |      |                 say                      \n",
      " |      |      |     _____________|____________            \n",
      " |      |      |    |     |       |         arrived       \n",
      " |      |      |    |     |       |       _____|______     \n",
      " |      |      |    |     |       |      |     |      in  \n",
      " |      |      |    |     |       |      |     |      |    \n",
      " |   Dursleys  |    |     |   neighbors  |  Potters street\n",
      " |      |      |    |     |       |      |     |      |    \n",
      " .     The     to  what would    the     if   the    the  \n",
      "\n",
      "                                      knew                                      \n",
      "  _____________________________________|________________________                 \n",
      " |   |     |              had                                   |               \n",
      " |   |     |       ________|________________                    |                \n",
      " |   |  Dursleys  |    |   |  Potters      son                 seen             \n",
      " |   |     |      |    |   |     |      ____|____      _________|_____________   \n",
      " ,  but   The    that  ,  too   the    a       small they had never even him  . \n",
      "\n",
      "                            want                                                      \n",
      "  ___________________________|_________________________________________                \n",
      " |   |    |   |   |         was                                        |              \n",
      " |   |    |   |   |    ______|______                                   |               \n",
      " |   |    |   |   |   |           reason                             mixing           \n",
      " |   |    |   |   |   |       ______|____________                ______|______         \n",
      " |   |    |   |   |   |      |      |           for             |            with     \n",
      " |   |    |   |   |   |      |      |            |              |             |        \n",
      " |   |    |   |   |   |      |      |         keeping           |           child     \n",
      " |   |    |   |   |   |      |      |      ______|_______       |       ______|____    \n",
      " |   |    |   |   |  boy     |      |     |           Potters   |      |          like\n",
      " |   |    |   |   |   |      |      |     |              |      |      |           |   \n",
      " ;  they did n't  .  This another  good  away           the   Dudley   a          that\n",
      "\n"
     ]
    }
   ],
   "source": [
    "from nltk import Tree\n",
    "def to_nltk_tree(node):\n",
    "    if node.n_lefts + node.n_rights > 0:\n",
    "        return Tree(node.orth_, [to_nltk_tree(child) for child in node.children])\n",
    "    else:\n",
    "        return node.orth_\n",
    "    \n",
    "for sent in doc.sents:\n",
    "    to_nltk_tree(sent.root).pretty_print()"
   ]
  },
  {
   "cell_type": "code",
   "execution_count": 39,
   "id": "1d0a3198-c33b-4943-bbeb-94bec7bddb4e",
   "metadata": {},
   "outputs": [],
   "source": [
    "# check out symbols here: https://github.com/explosion/spaCy/blob/master/spacy/symbols.pyx"
   ]
  },
  {
   "cell_type": "code",
   "execution_count": 57,
   "id": "93b6a738-43a2-4e2a-a74e-bfa44dc627b6",
   "metadata": {
    "tags": []
   },
   "outputs": [
    {
     "name": "stdout",
     "output_type": "stream",
     "text": [
      "Sent: The Dursleys had everything they wanted, but they also had a secret, and their greatest fear was that somebody would discover it.\n",
      "Sent root: had\n",
      "Sent: They didn't think they could bear it if anyone found out about the Potters.\n",
      "Sent root: think\n",
      "Sent: Mrs. Potter was Mrs. Dursley's sister, but they hadn't met for several years; in fact, Mrs. Dursley pretended she didn't have a sister, because her sister and her good-for-nothing husband were as unDursleyish as it was possible to be.\n",
      "Sent root: pretended\n",
      "Sent: The Dursleys shuddered to think what the neighbors would say if the Potters arrived in the street.\n",
      "Sent root: shuddered\n",
      "Sent: The Dursleys knew that the Potters had a small son, too, but they had never even seen him.\n",
      "Sent root: knew\n",
      "Sent: This boy was another good reason for keeping the Potters away; they didn't want Dudley mixing with a child like that.\n",
      "Sent root: want\n"
     ]
    }
   ],
   "source": [
    "for sentence in doc.sents:\n",
    "    print(f\"Sent: {sentence}\")\n",
    "    print(f\"Sent root: {sentence.root}\")"
   ]
  },
  {
   "cell_type": "code",
   "execution_count": 59,
   "id": "aa223c93-5754-4f83-835a-373a3c3b3c6b",
   "metadata": {},
   "outputs": [
    {
     "name": "stdout",
     "output_type": "stream",
     "text": [
      "Root: had\n",
      "Subject: Dursleys\n",
      "Direct object: everything\n",
      "\n",
      "Root: think\n",
      "Subject: They\n",
      "\n",
      "Root: pretended\n",
      "Subject: Dursley\n",
      "\n",
      "Root: shuddered\n",
      "Subject: Dursleys\n",
      "\n",
      "Root: knew\n",
      "Subject: Dursleys\n",
      "\n",
      "Root: want\n",
      "Subject: they\n",
      "\n"
     ]
    }
   ],
   "source": [
    "for sent in doc.sents:\n",
    "    root = sent.root\n",
    "    print(f\"Root: {root}\")\n",
    "    for child in root.children:\n",
    "        if child.dep_ == \"nsubj\":\n",
    "            # see https://universaldependencies.org/docs/en/dep/nsubj.html\n",
    "            print(f\"Subject: {child}\")\n",
    "        if child.dep_ == \"dobj\":\n",
    "            # see https://universaldependencies.org/docs/en/dep/dobj.html\n",
    "            print(f\"Direct object: {child}\")\n",
    "    print()"
   ]
  },
  {
   "cell_type": "code",
   "execution_count": null,
   "id": "6c81b0de-6d15-45de-b050-594a4ccfe0ac",
   "metadata": {},
   "outputs": [],
   "source": []
  }
 ],
 "metadata": {
  "kernelspec": {
   "display_name": "Python 3 (ipykernel)",
   "language": "python",
   "name": "python3"
  },
  "language_info": {
   "codemirror_mode": {
    "name": "ipython",
    "version": 3
   },
   "file_extension": ".py",
   "mimetype": "text/x-python",
   "name": "python",
   "nbconvert_exporter": "python",
   "pygments_lexer": "ipython3",
   "version": "3.9.9"
  }
 },
 "nbformat": 4,
 "nbformat_minor": 5
}
