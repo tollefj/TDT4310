{
 "cells": [
  {
   "cell_type": "markdown",
   "metadata": {},
   "source": [
    "# Lab 2 - Playground\n",
    "Note: this notebook is completely optional, and only exists to introduce some topics in greater detail than the lab itself. \n",
    "\n",
    "## Ngram language modeling and Word Embeddings\n",
    "Below you will find practical examples of how you can implement a simple next-word predictor, as well as generate embeddings for words. This will include libraries that are not covered until later labs (scikit-learn and gensim), but as this is a playground, you're left to explore it if you wish!\n",
    "\n",
    "### Ngram language modeling\n",
    "An example of next-word prediction with NLTK by using a simple n-gram model."
   ]
  },
  {
   "cell_type": "code",
   "execution_count": 1,
   "metadata": {},
   "outputs": [],
   "source": [
    "from typing import List, Optional, Tuple\n",
    "import nltk\n",
    "\n",
    "class NgramModel:\n",
    "    def __init__(self, measures, finder, corpus, n_gram) -> None:\n",
    "        self.model = finder.from_words(corpus).score_ngrams(measures.raw_freq)\n",
    "        self.n_gram = n_gram\n",
    "        \n",
    "    def compare_ngram(self, this: Optional[Tuple[str]], that: Tuple[str]) -> bool:\n",
    "        \"\"\" a function to compare the n-1 words in the nltk collocation model\n",
    "        Args:\n",
    "            this (str or list of strings): the user input\n",
    "            that (list): the existing tuples up to range N-1\n",
    "        \"\"\"\n",
    "        if not this:\n",
    "            return False\n",
    "\n",
    "        return list(that[0][:len(this)]) == this\n",
    "    \n",
    "    def predict(self, tokens: List[str], n_words: int=4, return_ngram: bool = False) -> List[str]:\n",
    "        n_tokens = tokens[-(self.n_gram - 1):]\n",
    "        model_name = \"bigram\" if self.n_gram == 2 else \"trigram\"\n",
    "        print(f\"{model_name} tokens: {n_tokens}\")\n",
    "        probas = [w for w in self.model if self.compare_ngram(n_tokens, w)]\n",
    "        best_probas = sorted(probas, key=lambda x: x[1], reverse=True)\n",
    "        # best_words = [w[0][-1] for w in best_probas]\n",
    "        if return_ngram:\n",
    "            return [w[0] for w in best_probas][:n_words]\n",
    "        return [w[0][-1] for w in best_probas][:n_words]"
   ]
  },
  {
   "cell_type": "code",
   "execution_count": 2,
   "metadata": {},
   "outputs": [],
   "source": [
    "class BigramModel(NgramModel):\n",
    "    def __init__(self, corpus) -> None:\n",
    "        super().__init__(\n",
    "            measures=nltk.collocations.BigramAssocMeasures(),\n",
    "            finder=nltk.collocations.BigramCollocationFinder,\n",
    "            corpus=corpus,\n",
    "            n_gram=2\n",
    "        )\n",
    "\n",
    "class TrigramModel(NgramModel):\n",
    "    def __init__(self, corpus) -> None:\n",
    "        super().__init__(\n",
    "            measures=nltk.collocations.TrigramAssocMeasures(),\n",
    "            finder=nltk.collocations.TrigramCollocationFinder,\n",
    "            corpus=corpus,\n",
    "            n_gram=3,\n",
    "        )"
   ]
  },
  {
   "cell_type": "code",
   "execution_count": 3,
   "metadata": {},
   "outputs": [],
   "source": [
    "from nltk.corpus import brown\n",
    "corpus = brown.words()\n",
    "corpus = [w.lower() for w in corpus if w.isalpha()]\n",
    "model = TrigramModel(corpus)"
   ]
  },
  {
   "cell_type": "code",
   "execution_count": 4,
   "metadata": {},
   "outputs": [
    {
     "name": "stdout",
     "output_type": "stream",
     "text": [
      "trigram tokens: ['have', 'you']\n"
     ]
    },
    {
     "data": {
      "text/plain": [
       "['ever', 'got', 'considered', 'any']"
      ]
     },
     "execution_count": 4,
     "metadata": {},
     "output_type": "execute_result"
    }
   ],
   "source": [
    "from nltk.tokenize import word_tokenize\n",
    "\n",
    "def predict(model, text):\n",
    "    tokens = word_tokenize(text)\n",
    "    output = model.predict(tokens)\n",
    "    return output\n",
    "\n",
    "predict(model, \"have you\")"
   ]
  },
  {
   "cell_type": "markdown",
   "metadata": {},
   "source": [
    "# Word vectors\n",
    "The example below uses Gensim (a library not used for a few labs, but this is a playground, after all) to generate embeddings with Word2Vec."
   ]
  },
  {
   "cell_type": "code",
   "execution_count": null,
   "metadata": {},
   "outputs": [],
   "source": [
    "%pip install gensim scikit-learn matplotlib"
   ]
  },
  {
   "cell_type": "code",
   "execution_count": 6,
   "metadata": {},
   "outputs": [
    {
     "name": "stdout",
     "output_type": "stream",
     "text": [
      "['nlp', 'love', 'gift', 'enjoy', 'students', \"n't\", 'nothing', 'do', 'science', 'wait', 'best', 'to', 'course', 'homework', 'project', 'hate', 'is', 'the', 'in', 'like', 'books', 'coding', 'computer', 'for', 'reading', 'beer', 'ca', 'but']\n"
     ]
    }
   ],
   "source": [
    "from gensim.models import Word2Vec\n",
    "from nltk.tokenize import word_tokenize\n",
    "from sklearn.metrics.pairwise import cosine_similarity\n",
    "\n",
    "# Dummy data\n",
    "false_corpus = [\n",
    "    \"Computer science students enjoy nothing but coding\",\n",
    "    \"Students love reading books\",\n",
    "    \"Students like books\",\n",
    "    \"Students hate beer\",\n",
    "    \"Homework is the best gift for students\",\n",
    "    \"Students can't wait to do the project in the NLP course\",\n",
    "]\n",
    "tokenized = [word_tokenize(sent.lower()) for sent in false_corpus]\n",
    "\n",
    "\n",
    "def one_hot_encoding(word, vocab):\n",
    "    vector = [0] * len(vocab)\n",
    "    vector[vocab.index(word)] = 1\n",
    "    return vector\n",
    "\n",
    "\n",
    "vocab = list(set(word for sent in tokenized for word in sent))\n",
    "print(vocab)"
   ]
  },
  {
   "cell_type": "code",
   "execution_count": 7,
   "metadata": {},
   "outputs": [
    {
     "name": "stdout",
     "output_type": "stream",
     "text": [
      "Example word embeddings:\n",
      "nothing: [ 0.05457946  0.08343768 -0.01454489 -0.09209523  0.04368281  0.00573161\n",
      "  0.07444196 -0.0081222  -0.0264008  -0.08752415]\n",
      "students: [-0.00532198  0.00233778  0.0510377   0.09008268 -0.09304411 -0.07113824\n",
      "  0.06461852  0.08975729 -0.0502093  -0.03761197]\n",
      "best: [-0.03709684 -0.08745531  0.05437527  0.06510013 -0.0078724  -0.06709985\n",
      " -0.07086103 -0.02496901  0.05143503 -0.03665357]\n",
      "beer: [-0.0960355   0.05007293 -0.08759586 -0.04391825 -0.000351   -0.00296181\n",
      " -0.0766124   0.09614743  0.04982058  0.09233143]\n",
      "in: [ 0.04295056 -0.03747213  0.08378576  0.01532073 -0.07251154  0.09438571\n",
      "  0.07638182  0.05497005 -0.06853662  0.05826212]\n"
     ]
    }
   ],
   "source": [
    "import random\n",
    "\n",
    "# One-hot encoding\n",
    "one_hotted = [one_hot_encoding(word, vocab) for sent in tokenized for word in sent]\n",
    "\n",
    "# Word2Vec\n",
    "word2vec_model = Word2Vec(sentences=tokenized, vector_size=10, window=3, min_count=1)\n",
    "\n",
    "print(\"Example word embeddings:\")\n",
    "for word in random.sample(vocab, 5):\n",
    "    print(f\"{word}: {word2vec_model.wv[word]}\")"
   ]
  },
  {
   "cell_type": "code",
   "execution_count": 8,
   "metadata": {},
   "outputs": [
    {
     "name": "stdout",
     "output_type": "stream",
     "text": [
      "Similarity between 'love' and 'hate': -0.44089633226394653\n",
      "Similarity between 'love' and 'enjoy': -0.24684560298919678\n",
      "Similarity between 'students' and 'books': 0.30064651370048523\n",
      "Similarity between 'students' and 'homework': -0.20524846017360687\n",
      "Similarity between 'project' and 'homework': 0.18614839017391205\n"
     ]
    }
   ],
   "source": [
    "# Hands-on activity: Calculate similarity between word pairs\n",
    "def calculate_similarity(word1, word2):\n",
    "    vec1 = word2vec_model.wv[word1].reshape(1, -1)\n",
    "    vec2 = word2vec_model.wv[word2].reshape(1, -1)\n",
    "    similarity = cosine_similarity(vec1, vec2)[0][0]\n",
    "    return similarity\n",
    "\n",
    "examples = [\n",
    "    (\"love\", \"hate\"),\n",
    "    (\"love\", \"enjoy\"),\n",
    "    (\"students\", \"books\"),\n",
    "    (\"students\", \"homework\"),\n",
    "    (\"project\", \"homework\"),\n",
    "]\n",
    "# outputs are on a scale of -1, 1\n",
    "for w1, w2 in examples:\n",
    "    similarity = calculate_similarity(w1, w2)\n",
    "    print(f\"Similarity between '{w1}' and '{w2}': {similarity}\")"
   ]
  },
  {
   "cell_type": "code",
   "execution_count": 9,
   "metadata": {},
   "outputs": [
    {
     "name": "stderr",
     "output_type": "stream",
     "text": [
      "[nltk_data] Downloading package averaged_perceptron_tagger to\n",
      "[nltk_data]     /Users/tollef/nltk_data...\n",
      "[nltk_data]   Package averaged_perceptron_tagger is already up-to-\n",
      "[nltk_data]       date!\n"
     ]
    },
    {
     "data": {
      "image/png": "[encoded data removed]",
      "text/plain": [
       "<Figure size 1000x800 with 1 Axes>"
      ]
     },
     "metadata": {},
     "output_type": "display_data"
    }
   ],
   "source": [
    "import nltk\n",
    "nltk.download('averaged_perceptron_tagger')\n",
    "\n",
    "from sklearn.decomposition import PCA\n",
    "import matplotlib.pyplot as plt\n",
    "\n",
    "pca = PCA(n_components=2)\n",
    "pca_result = pca.fit_transform(word2vec_model.wv.vectors)\n",
    "\n",
    "plt.figure(figsize=(10, 8))\n",
    "\n",
    "\n",
    "def is_noun_or_verb(word):\n",
    "    pos = nltk.pos_tag([word])[0][1]\n",
    "    return pos.startswith('N') or pos.startswith('V')\n",
    "\n",
    "for i, word in enumerate(vocab):\n",
    "    if not is_noun_or_verb(word):\n",
    "        continue\n",
    "    plt.scatter(pca_result[i, 0], pca_result[i, 1], marker='o', color='b')\n",
    "    plt.text(pca_result[i, 0] + 0.02, pca_result[i, 1] + 0.02, word, fontsize=9)\n",
    "\n",
    "plt.title('Word2Vec Embeddings')\n",
    "plt.xlabel('Component 1')\n",
    "plt.ylabel('Component 2')\n",
    "plt.grid(True)\n",
    "plt.show()"
   ]
  },
  {
   "cell_type": "markdown",
   "metadata": {},
   "source": [
    "The results may not make much sense with so little data. Feel free to load a larger corpus with NLTK and test out how powerful embeddings can be!"
   ]
  }
 ],
 "metadata": {
  "kernelspec": {
   "display_name": "Python 3",
   "language": "python",
   "name": "python3"
  },
  "language_info": {
   "codemirror_mode": {
    "name": "ipython",
    "version": 3
   },
   "file_extension": ".py",
   "mimetype": "text/x-python",
   "name": "python",
   "nbconvert_exporter": "python",
   "pygments_lexer": "ipython3",
   "version": "3.11.7"
  }
 },
 "nbformat": 4,
 "nbformat_minor": 2
}
