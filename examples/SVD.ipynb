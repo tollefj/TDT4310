{
 "cells": [
  {
   "cell_type": "code",
   "execution_count": 13,
   "metadata": {},
   "outputs": [
    {
     "name": "stdout",
     "output_type": "stream",
     "text": [
      "[[0.         0.         0.         0.         0.         0.\n",
      "  0.         0.         0.         0.         0.         0.\n",
      "  0.         0.         0.5182909  0.5182909  0.         0.\n",
      "  0.         0.         0.44059462 0.         0.         0.\n",
      "  0.5182909  0.         0.         0.         0.         0.\n",
      "  0.         0.         0.         0.        ]\n",
      " [0.         0.         0.         0.         0.         0.\n",
      "  0.         0.         0.         0.         0.         0.\n",
      "  0.         0.5        0.         0.         0.         0.5\n",
      "  0.         0.         0.         0.         0.         0.\n",
      "  0.         0.         0.         0.         0.         0.\n",
      "  0.         0.5        0.         0.5       ]\n",
      " [0.         0.         0.         0.         0.         0.\n",
      "  0.         0.         0.         0.         0.         0.\n",
      "  0.5        0.         0.         0.         0.         0.\n",
      "  0.         0.5        0.         0.         0.         0.\n",
      "  0.         0.         0.         0.5        0.         0.\n",
      "  0.5        0.         0.         0.        ]]\n"
     ]
    }
   ],
   "source": [
    "import re\n",
    "import nltk\n",
    "from sklearn.feature_extraction.text import TfidfVectorizer\n",
    "from sklearn.decomposition import TruncatedSVD\n",
    "\n",
    "stopwords = nltk.corpus.stopwords.words(\"english\")\n",
    "lemmatizer = nltk.WordNetLemmatizer()\n",
    "\n",
    "corpus = [\n",
    "    \"The government implemented a new policy\",\n",
    "    \"The soccer team lost the game\",\n",
    "    \"The film received mixed reviews\",\n",
    "    \"The economy is experiencing a downturn\",\n",
    "    \"The book became a bestseller\",\n",
    "    \"The company announced a merger\",\n",
    "    \"The concert was sold out\",\n",
    "    \"The research paper was published in a prestigious journal\",\n",
    "    \"The artist won an award for their painting\",\n",
    "    \"The restaurant opened a new branch\",\n",
    "]\n",
    "\n",
    "\n",
    "def simple_preprocessing(text):\n",
    "    text = text.lower()\n",
    "    text = re.sub(r\"[^\\w\\s]\", \"\", text)\n",
    "\n",
    "    tokens = nltk.word_tokenize(text)\n",
    "    tokens = [token for token in tokens if token not in stopwords]\n",
    "    lemmas = [lemmatizer.lemmatize(token) for token in tokens]\n",
    "    return \" \".join(lemmas)\n",
    "\n",
    "\n",
    "vectorizer = TfidfVectorizer()\n",
    "corpus = [simple_preprocessing(text) for text in corpus]\n",
    "X = vectorizer.fit_transform(corpus)\n",
    "print(X.toarray()[0:3])"
   ]
  },
  {
   "cell_type": "code",
   "execution_count": 35,
   "metadata": {},
   "outputs": [
    {
     "name": "stdout",
     "output_type": "stream",
     "text": [
      "Topic 0: \n",
      "new|government|implemented|policy|branch\n",
      " \n",
      "Topic 1: \n",
      "painting|artist|award|government|implemented\n",
      " \n",
      "Topic 2: \n",
      "announced|company|merger|became|bestseller\n",
      " \n"
     ]
    }
   ],
   "source": [
    "import numpy as np\n",
    "np.random.seed(0)\n",
    "\n",
    "svd = TruncatedSVD(n_components=3, random_state=0)\n",
    "latent_semantic_analysis = svd.fit_transform(X)\n",
    "\n",
    "terms = vectorizer.get_feature_names_out()\n",
    "N_TERMS = 5\n",
    "for i, comp in enumerate(svd.components_):\n",
    "    terms_in_comp = zip(terms, comp)\n",
    "    sorted_terms = sorted(terms_in_comp, key=lambda x:x[1], reverse=True)[:N_TERMS]\n",
    "    print(\"Topic \"+str(i)+\": \")\n",
    "    print(\"|\".join([t for t, _ in sorted_terms]))\n",
    "    print(\" \")"
   ]
  }
 ],
 "metadata": {
  "kernelspec": {
   "display_name": "Python 3",
   "language": "python",
   "name": "python3"
  },
  "language_info": {
   "codemirror_mode": {
    "name": "ipython",
    "version": 3
   },
   "file_extension": ".py",
   "mimetype": "text/x-python",
   "name": "python",
   "nbconvert_exporter": "python",
   "pygments_lexer": "ipython3",
   "version": "3.11.8"
  }
 },
 "nbformat": 4,
 "nbformat_minor": 2
}
