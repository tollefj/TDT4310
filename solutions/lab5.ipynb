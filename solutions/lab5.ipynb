{
 "cells": [
  {
   "cell_type": "markdown",
   "metadata": {},
   "source": [
    "# Lab 5 - Topic Modeling and Named Entity Recognition\n",
    "## Exercises"
   ]
  },
  {
   "cell_type": "markdown",
   "metadata": {},
   "source": [
    "___\n",
    "## Unsupervised vs Supervised learning - Topic Analysis"
   ]
  },
  {
   "cell_type": "markdown",
   "metadata": {},
   "source": [
    "**1. What is the difference between supervised and unsupervised learning? Discuss some benefits and issues for each approach in the context of topic analysis.**"
   ]
  },
  {
   "cell_type": "markdown",
   "metadata": {},
   "source": [
    "Your answer here!"
   ]
  },
  {
   "cell_type": "markdown",
   "metadata": {},
   "source": [
    "Supervised learning requires labeled data, while unsupervised learning does not.\n",
    "\n",
    "For topic analysis, an unsupervised approach may be more applicable, as topics are rarely well-defined for all domains. A benefit of the unsupervised approach is that we can apply it to any corpus, whereas a supervised topic model will likely perform poorly on out-of-domain tasks.\n",
    "\n",
    "A clear benefit of supervised learning is that we can evaluate it with clearly defined metrics, such as precision, recall, and f-measure, as well as the likelihood for good performance within the given domain."
   ]
  },
  {
   "cell_type": "markdown",
   "metadata": {},
   "source": [
    "___"
   ]
  },
  {
   "cell_type": "markdown",
   "metadata": {},
   "source": [
    "**2. You are presented with a large dataset of news articles where only 50% of the data has labeled topics (finance, sports, politics, ...) You want to assign labels to the remaining data. Explain your approach (no programming!)**"
   ]
  },
  {
   "cell_type": "markdown",
   "metadata": {},
   "source": [
    "Your answer here!"
   ]
  },
  {
   "cell_type": "markdown",
   "metadata": {},
   "source": [
    "We could use a supervised classifier to train on the existing labeled data and perform multi-class prediction on the remaining rows. However, we should also perform data analysis to evaluate whether there's a clear distinction between the articles with the same topics. If we do this, perhaps we will discover that the topics are not well-defined, and we could then use an unsupervised approach."
   ]
  },
  {
   "cell_type": "markdown",
   "metadata": {},
   "source": [
    "___"
   ]
  },
  {
   "cell_type": "markdown",
   "metadata": {},
   "source": [
    "**3. Could the previous question be improved by incorporating ideas from semi-supervised learning? Explain.**"
   ]
  },
  {
   "cell_type": "markdown",
   "metadata": {},
   "source": [
    "Your answer here!"
   ]
  },
  {
   "cell_type": "markdown",
   "metadata": {},
   "source": [
    "Semi-supervised learning could be used by combining the typical unsupervised approach to topic modeling (e.g. LDA), then using the labeled data to assign specific topics to clusters, and thus label the remaining data."
   ]
  },
  {
   "cell_type": "markdown",
   "metadata": {},
   "source": [
    "___"
   ]
  },
  {
   "cell_type": "markdown",
   "metadata": {},
   "source": [
    "**4. Metrics are essential when dealing with machine learning. However, regarding unsupervised clustering (e.g., of topics), we cannot use the typical precision, recall, and f-measure metrics. What are the alternatives for this task?**"
   ]
  },
  {
   "cell_type": "markdown",
   "metadata": {},
   "source": [
    "Your answer here"
   ]
  },
  {
   "cell_type": "markdown",
   "metadata": {},
   "source": [
    "Homogeneity, completeness, v-measure and silhouette score are some alternatives."
   ]
  },
  {
   "cell_type": "markdown",
   "metadata": {},
   "source": [
    "___"
   ]
  },
  {
   "cell_type": "markdown",
   "metadata": {},
   "source": [
    "## Topic Modeling"
   ]
  },
  {
   "cell_type": "markdown",
   "metadata": {},
   "source": [
    "Given the five sentences:\n",
    "\n",
    ">\"Macrosoft announces a new Something Pro laptop with a detachable keyboard.\"\n",
    "\n",
    ">\"Melon Tusk unveils plans for a new spacecraft that could take humans to Mars.\"\n",
    "\n",
    ">\"The top-grossing movie of the year Ramvel Retaliators.\"\n",
    "\n",
    ">\"Geeglo releases a new version of its Cyborg operating system.\"\n",
    "\n",
    ">\"Fletnix announces a new series from the creators of Thinger Strangs.\""
   ]
  },
  {
   "cell_type": "markdown",
   "metadata": {},
   "source": [
    "**1. How would *you* (without programming) assign the listed sentences to separate topics? Consider techniques we have discussed in the course so far (especially Lab 4)**"
   ]
  },
  {
   "cell_type": "markdown",
   "metadata": {},
   "source": [
    "Your answer here!"
   ]
  },
  {
   "cell_type": "markdown",
   "metadata": {},
   "source": [
    "Expect the student to reflect around the need for named entities and topic-based words. Perhaps grouping specific products in a \"product\" category. Phones, PCs, operating systems. There's also some companies involved."
   ]
  },
  {
   "cell_type": "markdown",
   "metadata": {},
   "source": [
    "___"
   ]
  },
  {
   "cell_type": "markdown",
   "metadata": {},
   "source": [
    "Two well-established algorithms for topic discovery are Latent Semantic Indexing (LSI) and Latent Dirichlet Allocation (LDA)\n",
    "\n",
    "**2. What preprocessing steps should we consider before implementing these algorithms?**"
   ]
  },
  {
   "cell_type": "markdown",
   "metadata": {},
   "source": [
    "Stemming, lemmatization, stopword removal, TF-IDF"
   ]
  },
  {
   "cell_type": "markdown",
   "metadata": {},
   "source": [
    "Your answer here!"
   ]
  },
  {
   "cell_type": "markdown",
   "metadata": {},
   "source": [
    "___"
   ]
  },
  {
   "cell_type": "markdown",
   "metadata": {},
   "source": [
    "**3. Both LSI and LDA require the user to specify the number of topic clusters. How can we *automatically* detect a reasonable number of topics?**"
   ]
  },
  {
   "cell_type": "markdown",
   "metadata": {},
   "source": [
    "Your answer here!"
   ]
  },
  {
   "cell_type": "markdown",
   "metadata": {},
   "source": [
    "The elbow method is a common approach to evaluate the suitable amount of clusters.\n",
    "There are others, though, such as the silhouette score. Read more here: <https://scikit-learn.org/stable/auto_examples/cluster/plot_kmeans_silhouette_analysis.html>"
   ]
  },
  {
   "cell_type": "markdown",
   "metadata": {},
   "source": [
    "___"
   ]
  },
  {
   "cell_type": "markdown",
   "metadata": {},
   "source": [
    "## Practical Exercise - Topic Analaysis and Modeling of Product Reviews\n",
    "We will now be using an Amazon product review dataset to perform topic modeling. The dataset specifically contains reviews of \"appliances\", a subset (~100k reviews, ~50 MB) of the full product review corpus (<https://www.kaggle.com/datasets/cynthiarempel/amazon-us-customer-reviews-dataset> - 55GB!)\n",
    "\n",
    "This task is somewhat open, and whether you want to just cluster isolated reviews, or within subsets from the review score, is up to you."
   ]
  },
  {
   "cell_type": "markdown",
   "metadata": {},
   "source": [
    "**1. Load the dataset with `pandas`, apply some preprocessing steps you find suitable, and use at least five different techniques to visualize the data, based on what you have learned in the course.**\n",
    "- If you are completely new to data science, look up exploratory data analysis (EDA)"
   ]
  },
  {
   "cell_type": "code",
   "execution_count": 1,
   "metadata": {},
   "outputs": [
    {
     "data": {
      "text/html": [
       "<div>\n",
       "<style scoped>\n",
       "    .dataframe tbody tr th:only-of-type {\n",
       "        vertical-align: middle;\n",
       "    }\n",
       "\n",
       "    .dataframe tbody tr th {\n",
       "        vertical-align: top;\n",
       "    }\n",
       "\n",
       "    .dataframe thead th {\n",
       "        text-align: right;\n",
       "    }\n",
       "</style>\n",
       "<table border=\"1\" class=\"dataframe\">\n",
       "  <thead>\n",
       "    <tr style=\"text-align: right;\">\n",
       "      <th></th>\n",
       "      <th>star_rating</th>\n",
       "      <th>helpful_votes</th>\n",
       "      <th>total_votes</th>\n",
       "      <th>verified_purchase</th>\n",
       "      <th>review_headline</th>\n",
       "      <th>review_body</th>\n",
       "    </tr>\n",
       "  </thead>\n",
       "  <tbody>\n",
       "    <tr>\n",
       "      <th>0</th>\n",
       "      <td>1</td>\n",
       "      <td>1</td>\n",
       "      <td>1</td>\n",
       "      <td>Y</td>\n",
       "      <td>Do not buy this product</td>\n",
       "      <td>I am not a big review writer and truth be told...</td>\n",
       "    </tr>\n",
       "    <tr>\n",
       "      <th>1</th>\n",
       "      <td>4</td>\n",
       "      <td>0</td>\n",
       "      <td>0</td>\n",
       "      <td>Y</td>\n",
       "      <td>Wattage is not as advertised.</td>\n",
       "      <td>Not the advertised 700W.  It's actually 1050W,...</td>\n",
       "    </tr>\n",
       "    <tr>\n",
       "      <th>2</th>\n",
       "      <td>1</td>\n",
       "      <td>0</td>\n",
       "      <td>21</td>\n",
       "      <td>Y</td>\n",
       "      <td>don't buy it!  $40 to return it. ...</td>\n",
       "      <td>Looks very cheap.... the worse  inversion in m...</td>\n",
       "    </tr>\n",
       "    <tr>\n",
       "      <th>3</th>\n",
       "      <td>5</td>\n",
       "      <td>0</td>\n",
       "      <td>0</td>\n",
       "      <td>Y</td>\n",
       "      <td>water tastes good.</td>\n",
       "      <td>Quick shipping, water tastes good.</td>\n",
       "    </tr>\n",
       "    <tr>\n",
       "      <th>4</th>\n",
       "      <td>1</td>\n",
       "      <td>8</td>\n",
       "      <td>10</td>\n",
       "      <td>N</td>\n",
       "      <td>Poor quality microwave ruins the product</td>\n",
       "      <td>This unit has the HMB5050 Microwave integrated...</td>\n",
       "    </tr>\n",
       "  </tbody>\n",
       "</table>\n",
       "</div>"
      ],
      "text/plain": [
       "   star_rating  helpful_votes  total_votes verified_purchase  \\\n",
       "0            1              1            1                 Y   \n",
       "1            4              0            0                 Y   \n",
       "2            1              0           21                 Y   \n",
       "3            5              0            0                 Y   \n",
       "4            1              8           10                 N   \n",
       "\n",
       "                            review_headline  \\\n",
       "0                   Do not buy this product   \n",
       "1             Wattage is not as advertised.   \n",
       "2      don't buy it!  $40 to return it. ...   \n",
       "3                        water tastes good.   \n",
       "4  Poor quality microwave ruins the product   \n",
       "\n",
       "                                         review_body  \n",
       "0  I am not a big review writer and truth be told...  \n",
       "1  Not the advertised 700W.  It's actually 1050W,...  \n",
       "2  Looks very cheap.... the worse  inversion in m...  \n",
       "3                 Quick shipping, water tastes good.  \n",
       "4  This unit has the HMB5050 Microwave integrated...  "
      ]
     },
     "execution_count": 1,
     "metadata": {},
     "output_type": "execute_result"
    }
   ],
   "source": [
    "# TODO visualize the reviews in at least five different ways\n",
    "# must include some of the techniques used in this course.\n",
    "import pandas as pd\n",
    "df = pd.read_csv(\"amazon_train.csv\")\n",
    "df.head()"
   ]
  },
  {
   "cell_type": "markdown",
   "metadata": {},
   "source": [
    "Expect the student to have experimented with...\n",
    "- word clouds\n",
    "- tf-idf importance\n",
    "- top frequency words\n",
    "- top frequency words in positive and negative reviews\n",
    "- which POS tags are most common across reviews?\n",
    "- common adjectives\n",
    "- ngram frequency\n",
    "- heatmaps of important words\n",
    "- sentence lengths\n",
    "- number of sentences\n",
    "- avg words per sentence\n",
    "- common stopwords\n",
    "- named entities found using e.g. spacy\n",
    "- readability\n",
    "    - e.g. flesch kincaid grade"
   ]
  },
  {
   "cell_type": "markdown",
   "metadata": {},
   "source": [
    "___"
   ]
  },
  {
   "cell_type": "markdown",
   "metadata": {},
   "source": [
    "**2. Before implementing off-the-shelf topic models, it is useful to consider how to process data for topic analysis. Consider what you have learned so far to generate a processing function and discuss your findings. This should only operate on a word level!**\n",
    "\n",
    "Below is a snippet to fetch some examples from the review corpus. You can use these to test your output."
   ]
  },
  {
   "cell_type": "code",
   "execution_count": 2,
   "metadata": {},
   "outputs": [],
   "source": [
    "# TODO: a preprocessing function to gather words/groups of words/chunks that you consider important for topic analysis/modeling\n",
    "from typing import List\n",
    "\n",
    "def preprocess_for_topic(document: str) -> List[str]:\n",
    "    \"\"\"\n",
    "    Preprocesses a document\n",
    "    Args:\n",
    "        document (str): The input document to be preprocessed.\n",
    "    Returns:\n",
    "        List[str]: A list of words obtained by splitting the document.\n",
    "\n",
    "    Example:\n",
    "        input: \"This is a test.\"\n",
    "        output: [\"This\", \"is\", \"a\", \"test.\"]\n",
    "    \"\"\"\n",
    "    return document.split()"
   ]
  },
  {
   "cell_type": "code",
   "execution_count": 3,
   "metadata": {},
   "outputs": [
    {
     "name": "stdout",
     "output_type": "stream",
     "text": [
      "I am not a big review writer and truth be told after reading Amazon reviews you can weed out good from bad products.  So I place a high value on people who do post reviews, both positive and negative.  A year and a half ago I purchased two different Avanti mini fridges.  One died within a year and was under warranty and was repaired and is still working.  The second one Avanti BCA31SS Beverage Center, failed after a year and a half.  I was told that the warranty was only a year and I would have to call a local service company at my expense.  I explained that 100% of my purchased Avanti units (two unit) purchased within two weeks of each other failed.  Perhaps there was manufacturing issues at the time or perhaps I got stuck with two lemons.  My complaints got no where regarding Avanti covering the repair.  I do not want to yell sour grapes but I expect somewhat longer use from the unit before it died.  Given that the company can document my two units purchased and both units having problems, I was hopeful that something could be done.  Well it was not.  Based on this I cannot suggest this unit for anyone wanting a small glass door beverage center.\n",
      "Not the advertised 700W.  It's actually 1050W, which might be good if you're not using it in a power limited situation (like running it from a 1000W inverter like I tried to do).\n",
      "Looks very cheap.... the worse  inversion in my whole life\n",
      "Quick shipping, water tastes good.\n",
      "This unit has the HMB5050 Microwave integrated in it. As you will see from the reviews of it, it's terrible - basically breaks after 1-3 years. Fixing costs as much as a new unit. The problem is if you get the combination unit, you are stuck with it and your microwave may be useless.\n",
      "We replaced the drum rollers on our older Maytag electric dryer first. That was not the problem. Then, we found a post that suggested replacing the blower wheel. The suggestion seemed to be wrong because when we turned the drum, the noise sounded as though it came from the motor or back of the dryer. But, we went ahead and replaced the blower wheel. That did the trick. Turned out that the fitting for the wheel had wallowed out and thumped and bumped when the dryer was starting up, running, and shutting down - all were different sounds. One site that we found after the repair said that if this wheel turns freely, it needs to be replaced. So, we are now using a very old, quiet dryer. We saved a ton by spending some time and doing the repair ourselves, eventhough we replaced two parts in the process and only one was necessary. We did invest in one tool we did not have: a retainer clip remover. That made the work much easier. My husband did a great job with the best swamper available - me! (-:\n",
      "I was under the impression that this was a NEW range hood but once I opened the box I saw the return slip to Home Depot from another purchaser.  The range hood was bent and scratched but I felt I was stuck with it and had to put it in my newly remodeled kitchen anyway.<br /><br />Very sad\n",
      "Although this part turned out to not be the one needing replacement, it was a good price and product and was an exact replacement.\n",
      "Excelente\n",
      "it is a good replacement product,not as good as the original but worth the price to replace the original,i like it\n"
     ]
    }
   ],
   "source": [
    "reviews = df[\"review_body\"].tolist()\n",
    "for review in reviews[:10]:\n",
    "    print(review)"
   ]
  },
  {
   "cell_type": "code",
   "execution_count": 4,
   "metadata": {},
   "outputs": [
    {
     "name": "stderr",
     "output_type": "stream",
     "text": [
      "/opt/homebrew/lib/python3.11/site-packages/thinc/compat.py:36: UserWarning: 'has_mps' is deprecated, please use 'torch.backends.mps.is_built()'\n",
      "  hasattr(torch, \"has_mps\")\n",
      "/opt/homebrew/lib/python3.11/site-packages/thinc/compat.py:37: UserWarning: 'has_mps' is deprecated, please use 'torch.backends.mps.is_built()'\n",
      "  and torch.has_mps  # type: ignore[attr-defined]\n"
     ]
    }
   ],
   "source": [
    "import spacy\n",
    "nlp = spacy.load(\"en_core_web_sm\")"
   ]
  },
  {
   "cell_type": "code",
   "execution_count": 5,
   "metadata": {},
   "outputs": [
    {
     "name": "stdout",
     "output_type": "stream",
     "text": [
      "I am not a big review writer and truth be told after reading Amazon reviews you can weed out good from bad products.  So I place a high value on people who do post reviews, both positive and negative.  A year and a half ago I purchased two different Avanti mini fridges.  One died within a year and was under warranty and was repaired and is still working.  The second one Avanti BCA31SS Beverage Center, failed after a year and a half.  I was told that the warranty was only a year and I would have to call a local service company at my expense.  I explained that 100% of my purchased Avanti units (two unit) purchased within two weeks of each other failed.  Perhaps there was manufacturing issues at the time or perhaps I got stuck with two lemons.  My complaints got no where regarding Avanti covering the repair.  I do not want to yell sour grapes but I expect somewhat longer use from the unit before it died.  Given that the company can document my two units purchased and both units having problems, I was hopeful that something could be done.  Well it was not.  Based on this I cannot suggest this unit for anyone wanting a small glass door beverage center.\n",
      "a big review\n",
      "a big review writer\n",
      "a high value\n",
      "place a high value\n",
      "post reviews\n",
      "A year\n",
      "a half\n",
      "a year\n",
      "a year\n",
      "a half\n",
      "the warranty\n",
      "a year\n",
      "a local service\n",
      "call a local service\n",
      "a local service company\n",
      "call a local service company\n",
      "manufacturing issues\n",
      "was manufacturing issues\n",
      "the time\n",
      "the repair\n",
      "covering the repair\n",
      "yell sour grapes\n",
      "the unit\n",
      "the company\n",
      "both units\n",
      "having problems\n",
      "this unit\n",
      "suggest this unit\n",
      "a small glass\n",
      "wanting a small glass\n",
      "a small glass door\n",
      "wanting a small glass door\n",
      "a small glass door beverage\n",
      "wanting a small glass door beverage\n",
      "a small glass door beverage center\n",
      "wanting a small glass door beverage center\n"
     ]
    },
    {
     "data": {
      "text/plain": [
       "['post reviews',\n",
       " 'unit died',\n",
       " 'center failed',\n",
       " 'wanting a small glass door beverage',\n",
       " 'expense explained',\n",
       " 'perhaps manufacturing',\n",
       " 'covering the repair',\n",
       " 'manufacturing issue',\n",
       " 'failed year',\n",
       " 'failed perhaps',\n",
       " 'anyone wanting',\n",
       " 'a big review',\n",
       " 'purchased within',\n",
       " 'was manufacturing issues',\n",
       " 'door beverage',\n",
       " 'year half',\n",
       " 'based suggest',\n",
       " 'a local service',\n",
       " 'manufacturing issues',\n",
       " 'value people',\n",
       " 'two lemon',\n",
       " 'the time',\n",
       " 'given company',\n",
       " 'purchased two',\n",
       " 'still working',\n",
       " 'beverage center',\n",
       " 'place a high value',\n",
       " 'unit anyone',\n",
       " 'avanti bca31ss',\n",
       " 'the repair',\n",
       " 'post review',\n",
       " 'avanti covering',\n",
       " 'want yell',\n",
       " 'bad product',\n",
       " 'small glass',\n",
       " 'both units',\n",
       " 'positive negative',\n",
       " 'company expense',\n",
       " 'different avanti',\n",
       " 'reading amazon',\n",
       " 'would call',\n",
       " 'writer truth',\n",
       " 'the company',\n",
       " 'A year',\n",
       " 'this unit',\n",
       " 'half told',\n",
       " 'avanti mini',\n",
       " 'regarding avanti',\n",
       " 'warranty repaired',\n",
       " 'stuck two',\n",
       " 'got stuck',\n",
       " 'year would',\n",
       " 'a big review writer',\n",
       " 'avanti unit',\n",
       " 'two week',\n",
       " 'review weed',\n",
       " 'suggest unit',\n",
       " 'review positive',\n",
       " 'week failed',\n",
       " 'perhaps got',\n",
       " 'ago purchased',\n",
       " 'place high',\n",
       " 'well based',\n",
       " 'hopeful something',\n",
       " 'could done',\n",
       " 'repair want',\n",
       " 'bca31ss beverage',\n",
       " 'a year',\n",
       " 'wanting a small glass door',\n",
       " 'a local service company',\n",
       " 'company document',\n",
       " 'the warranty',\n",
       " 'high value',\n",
       " 'unit purchased',\n",
       " 'problem hopeful',\n",
       " 'expect somewhat',\n",
       " 'a half',\n",
       " 'wanting a small glass',\n",
       " 'the unit',\n",
       " 'time perhaps',\n",
       " 'service company',\n",
       " 'issue time',\n",
       " 'big review',\n",
       " 'repaired still',\n",
       " 'two unit',\n",
       " 'half ago',\n",
       " 'within year',\n",
       " 'got regarding',\n",
       " 'grape expect',\n",
       " 'somewhat longer',\n",
       " 'done well',\n",
       " 'wanting a small glass door beverage center',\n",
       " 'negative year',\n",
       " 'product place',\n",
       " '100 purchased',\n",
       " 'document two',\n",
       " 'call a local service',\n",
       " 'a small glass door beverage',\n",
       " 'amazon review',\n",
       " 'told warranty',\n",
       " 'yell sour',\n",
       " 'call a local service company',\n",
       " 'one avanti',\n",
       " 'unit problem',\n",
       " 'within two',\n",
       " 'working second',\n",
       " 'a small glass door',\n",
       " 'suggest this unit',\n",
       " 'year warranty',\n",
       " 'review writer',\n",
       " 'died given',\n",
       " 'purchased avanti',\n",
       " 'wanting small',\n",
       " 'use unit',\n",
       " 'purchased unit',\n",
       " 'something could',\n",
       " 'a high value',\n",
       " 'sour grape',\n",
       " 'complaint got',\n",
       " 'two different',\n",
       " 'warranty year',\n",
       " 'local service',\n",
       " 'a small glass',\n",
       " 'covering repair',\n",
       " 'glass door',\n",
       " 'explained 100',\n",
       " 'yell sour grapes',\n",
       " 'lemon complaint',\n",
       " 'died within',\n",
       " 'told reading',\n",
       " 'mini fridge',\n",
       " 'one died',\n",
       " 'truth told',\n",
       " 'a small glass door beverage center',\n",
       " 'unit two',\n",
       " 'second one',\n",
       " 'fridge one',\n",
       " 'people post',\n",
       " 'having problems',\n",
       " 'good bad',\n",
       " 'longer use',\n",
       " 'call local',\n",
       " 'weed good']"
      ]
     },
     "execution_count": 5,
     "metadata": {},
     "output_type": "execute_result"
    }
   ],
   "source": [
    "from typing import List\n",
    "from collections import defaultdict\n",
    "import re\n",
    "import nltk\n",
    "\n",
    "# nltk.download('maxent_ne_chunker')\n",
    "# nltk.download('words')\n",
    "stopwords = set(nltk.corpus.stopwords.words(\"english\"))\n",
    "\n",
    "vp = [\n",
    "    {\"POS\": \"VERB\", \"OP\": \"+\"},\n",
    "    {\"POS\": \"DET\", \"OP\": \"?\"},\n",
    "    {\"POS\": \"ADJ\", \"OP\": \"*\"},\n",
    "    {\"POS\": \"NOUN\", \"OP\": \"+\"},\n",
    "]\n",
    "np = [\n",
    "    {\"POS\": \"DET\", \"OP\": \"{1}\"},\n",
    "    {\"POS\": \"ADJ\", \"OP\": \"*\"},\n",
    "    {\"POS\": \"NOUN\", \"OP\": \"+\"},\n",
    "]\n",
    "matcher = spacy.matcher.Matcher(nlp.vocab)\n",
    "matcher.add(\"verb_phrase\", [vp])\n",
    "matcher.add(\"noun_phrase\", [np])\n",
    "\n",
    "clean_pattern = re.compile(r\"\\b\\w+\\b\")\n",
    "lemmatizer = nltk.stem.WordNetLemmatizer()\n",
    "\n",
    "\n",
    "def process_doc(doc: str) -> List[str]:\n",
    "    # we want to parse with spacy before preprocessing\n",
    "    spacydoc = nlp(doc)\n",
    "    matches = matcher(spacydoc)\n",
    "\n",
    "    chunks = defaultdict(list)\n",
    "    for match_id, start, end in matches:\n",
    "        span = spacydoc[start:end]\n",
    "        match_type = spacydoc.vocab.strings[match_id]\n",
    "        chunks[match_type].append(span.text)\n",
    "        print(span.text)\n",
    "\n",
    "    doc = nltk.word_tokenize(doc.lower())\n",
    "    doc = [\n",
    "        lemmatizer.lemmatize(word)\n",
    "        for word in doc\n",
    "        if clean_pattern.match(word) and word not in stopwords\n",
    "    ]\n",
    "\n",
    "    strings = [\" \".join(ngram) for ngram in nltk.ngrams(doc, 2)]\n",
    "    for chunk in chunks.values():\n",
    "        strings += chunk\n",
    "\n",
    "    return list(set(strings))\n",
    "\n",
    "\n",
    "review = reviews[0]\n",
    "print(review)\n",
    "process_doc(review)"
   ]
  },
  {
   "cell_type": "markdown",
   "metadata": {},
   "source": [
    "**3. Using the same data, implement a topic model with LDA using the Gensim library. Experiment with different topic counts (e.g., 3) and retrieve the top 5 words from each. Discuss your findings briefly!**"
   ]
  },
  {
   "cell_type": "code",
   "execution_count": 6,
   "metadata": {},
   "outputs": [],
   "source": [
    "import re\n",
    "from nltk.corpus import stopwords\n",
    "\n",
    "stop_words = set(stopwords.words('english'))\n",
    "texts = df['review_body'].tolist()\n",
    "\n",
    "def some_cleaning(text):\n",
    "    if not isinstance(text, str):\n",
    "        return \"\"\n",
    "    text = re.sub(r'[^\\w\\s]','',text)\n",
    "    text = re.sub(r'\\d+','',text)\n",
    "    text = [word.lower() for word in text.split() if word.lower() not in stop_words]\n",
    "    text = [word for word in text if len(word) > 3]\n",
    "    return text\n",
    "\n",
    "texts = [some_cleaning(text) for text in texts]\n",
    "texts = [t for t in texts if len(t) > 0]"
   ]
  },
  {
   "cell_type": "code",
   "execution_count": 7,
   "metadata": {},
   "outputs": [
    {
     "name": "stdout",
     "output_type": "stream",
     "text": [
      "['great', 'works', 'good', 'well', 'dishwasher', 'easy', 'price', 'love', 'dishes', 'product']\n",
      "['service', 'years', 'would', 'warranty', 'months', 'repair', 'year', 'part', 'product', 'never']\n",
      "['water', 'machine', 'washer', 'clothes', 'dryer', 'wash', 'cycle', 'filter', 'load', 'time']\n",
      "['oven', 'range', 'unit', 'hood', 'like', 'would', 'door', 'light', 'stainless', 'stove']\n",
      "['fridge', 'unit', 'refrigerator', 'freezer', 'wine', 'door', 'would', 'temperature', 'cold', 'cooler']\n"
     ]
    }
   ],
   "source": [
    "from gensim.corpora.dictionary import Dictionary\n",
    "from gensim.models import LdaModel\n",
    "\n",
    "\n",
    "gensim_dict = Dictionary(texts)\n",
    "corpus = [gensim_dict.doc2bow(text) for text in texts]\n",
    "\n",
    "def show_top_n_words(n_topics, n_words):\n",
    "    for topic in lda.show_topics(num_topics=n_topics, num_words=n_words, formatted=False):\n",
    "        word_ids = [word for word, _ in topic[1]]\n",
    "        words = [gensim_dict[int(word_id)] for word_id in word_ids]\n",
    "        print(words)\n",
    "\n",
    "n_topics = 5\n",
    "n_words = 10\n",
    "lda = LdaModel(corpus=corpus,num_topics=n_topics)\n",
    "show_top_n_words(n_topics, n_words)"
   ]
  },
  {
   "cell_type": "markdown",
   "metadata": {},
   "source": [
    "**4. With the LDA model you trained above, perform topic prediction for 10 random reviews and do a simple empirical evaluation of the results.**"
   ]
  },
  {
   "cell_type": "code",
   "execution_count": 8,
   "metadata": {},
   "outputs": [],
   "source": [
    "# TODO:\n",
    "# input: 10 random samples from `amazon_test.csv`\n",
    "# output:\n",
    "# print the review, predicted topic, which words are contained within the predicted topic, along with the confidence score."
   ]
  },
  {
   "cell_type": "code",
   "execution_count": 9,
   "metadata": {},
   "outputs": [
    {
     "data": {
      "text/plain": [
       "['&#34;Cool&#34; item....would like it a little bigger though.',\n",
       " 'perfect fit for the washer, much cheaper than from sears. as a DIY person this was a great deal and saved me lots of cash.',\n",
       " 'Perfect for what I needed. Just wanted to spruce up my rental property. Not as high quality as $300 units, but still looks great.',\n",
       " 'This product does the job, but the plastic is somewhat flimsy. It does holdup much better than the round lint traps which last a few months and fall apart.',\n",
       " 'This part was an exact replacement to replace my original which broke due to ground glass damage - the quality and price were great!',\n",
       " 'Bought this for my sister to wash baby clothes separately and she loves it',\n",
       " 'Receive it about 5 days before it was due! Took about 5 minutes to install. Wife baked a roast immediately. Ummmm Good!',\n",
       " \"Bought this washing machine 25 months ago..and of course 30 days after the warranty on the main board expired...it went out! Go figure! Don't waste your money.....buy a Kenmore!!\",\n",
       " 'It was beyond my expectations, when it came in 4 days later that was great with free shipping was a bonus',\n",
       " 'Work great.']"
      ]
     },
     "execution_count": 9,
     "metadata": {},
     "output_type": "execute_result"
    }
   ],
   "source": [
    "import random\n",
    "test_df = pd.read_csv(\"amazon_test.csv\")\n",
    "test_reviews = test_df[\"review_body\"].tolist()\n",
    "\n",
    "# some reviews are looong. Set a max length of 30 words\n",
    "test_reviews = [review for review in test_reviews if len(str(review).split()) < 30]\n",
    "test_reviews = random.sample(population=test_reviews, k=10)\n",
    "test_reviews"
   ]
  },
  {
   "cell_type": "code",
   "execution_count": 10,
   "metadata": {},
   "outputs": [
    {
     "name": "stdout",
     "output_type": "stream",
     "text": [
      "Review: &#34;Cool&#34; item....would like it a little bigger though.\n",
      "-- Predicted topic 0 with probability 0.70\n",
      "['great', 'works', 'good', 'well', 'dishwasher', 'easy', 'price', 'love', 'dishes', 'product']\n",
      "\n",
      "Review: perfect fit for the washer, much cheaper than from sears. as a DIY person this was a great deal and saved me lots of cash.\n",
      "-- Predicted topic 0 with probability 0.77\n",
      "['great', 'works', 'good', 'well', 'dishwasher', 'easy', 'price', 'love', 'dishes', 'product']\n",
      "\n",
      "Review: Perfect for what I needed. Just wanted to spruce up my rental property. Not as high quality as $300 units, but still looks great.\n",
      "-- Predicted topic 0 with probability 0.70\n",
      "['great', 'works', 'good', 'well', 'dishwasher', 'easy', 'price', 'love', 'dishes', 'product']\n",
      "\n",
      "Review: This product does the job, but the plastic is somewhat flimsy. It does holdup much better than the round lint traps which last a few months and fall apart.\n",
      "-- Predicted topic 3 with probability 0.67\n",
      "['oven', 'range', 'unit', 'hood', 'like', 'would', 'door', 'light', 'stainless', 'stove']\n",
      "\n",
      "Review: This part was an exact replacement to replace my original which broke due to ground glass damage - the quality and price were great!\n",
      "-- Predicted topic 1 with probability 0.46\n",
      "['service', 'years', 'would', 'warranty', 'months', 'repair', 'year', 'part', 'product', 'never']\n",
      "\n",
      "Review: Bought this for my sister to wash baby clothes separately and she loves it\n",
      "-- Predicted topic 2 with probability 0.52\n",
      "['water', 'machine', 'washer', 'clothes', 'dryer', 'wash', 'cycle', 'filter', 'load', 'time']\n",
      "\n",
      "Review: Receive it about 5 days before it was due! Took about 5 minutes to install. Wife baked a roast immediately. Ummmm Good!\n",
      "-- Predicted topic 3 with probability 0.59\n",
      "['oven', 'range', 'unit', 'hood', 'like', 'would', 'door', 'light', 'stainless', 'stove']\n",
      "\n",
      "Review: Bought this washing machine 25 months ago..and of course 30 days after the warranty on the main board expired...it went out! Go figure! Don't waste your money.....buy a Kenmore!!\n",
      "-- Predicted topic 1 with probability 0.74\n",
      "['service', 'years', 'would', 'warranty', 'months', 'repair', 'year', 'part', 'product', 'never']\n",
      "\n",
      "Review: It was beyond my expectations, when it came in 4 days later that was great with free shipping was a bonus\n",
      "-- Predicted topic 0 with probability 0.52\n",
      "['great', 'works', 'good', 'well', 'dishwasher', 'easy', 'price', 'love', 'dishes', 'product']\n",
      "\n",
      "Review: Work great.\n",
      "-- Predicted topic 0 with probability 0.73\n",
      "['great', 'works', 'good', 'well', 'dishwasher', 'easy', 'price', 'love', 'dishes', 'product']\n",
      "\n"
     ]
    }
   ],
   "source": [
    "for test_review in test_reviews:\n",
    "    print(f\"Review: {test_review}\")\n",
    "    test_review = some_cleaning(test_review)\n",
    "    # bag-of-words\n",
    "    bow = gensim_dict.doc2bow(test_review)\n",
    "    # all model matches\n",
    "    topic_matches = lda.get_document_topics(bow)\n",
    "    # best!\n",
    "    best_topic = max(topic_matches, key=lambda x: x[1])\n",
    "    print(f\"-- Predicted topic {best_topic[0]} with probability {best_topic[1]:.2f}\")\n",
    "    matching_words = [gensim_dict[int(word_id)] for word_id, _ in lda.show_topic(best_topic[0], topn=10)]\n",
    "    print(matching_words)\n",
    "    print()"
   ]
  },
  {
   "cell_type": "markdown",
   "metadata": {},
   "source": [
    "___\n",
    "# Named Entity Recognition\n",
    "\n",
    "Previously, you learned about noun phrases. Noun phrases such as \"The slow white fox\", a person \"Name Nameson\", a place \"Mount Doom\" or organizations \"NTNU\", are some examples of what we consider *named entities*.\n",
    "\n",
    "\n",
    "**1. Can you think of named entity categories that don't fall within these categories?**"
   ]
  },
  {
   "cell_type": "markdown",
   "metadata": {},
   "source": [
    "Your answer here!"
   ]
  },
  {
   "cell_type": "markdown",
   "metadata": {},
   "source": [
    "Date/type/money are examples of this."
   ]
  },
  {
   "cell_type": "markdown",
   "metadata": {},
   "source": [
    "___\n",
    "Disambiguating (or entity linking) named entities is a crucial task to applications of NER and considers the problem of assigning an identifier to each entity, i.e., linking relevant entities together. The disambiguation process often incorporates external knowledge (knowledge bases).\n",
    "\n",
    "\n",
    "Consider the sentences:\n",
    "\n",
    "- \"I ate an apple in New York\"\n",
    "- \"New York Times wrote an article about Apple\"\n",
    "- \"New York is also known as the Big Apple\"\n",
    "\n",
    "**2. How would you tackle the task of distinguishing the entities found here? Describe your approach either in text or by code.**"
   ]
  },
  {
   "cell_type": "markdown",
   "metadata": {},
   "source": [
    "Your answer here!"
   ]
  },
  {
   "cell_type": "markdown",
   "metadata": {},
   "source": [
    "Knowledge bases often include information that specifies the type of entity, e.g., a person.\n",
    "A decent NER system may also correctly label this.\n",
    "Regardless, you could identify “New york times” as having an organization number and “New York” as a location. You could also use a knowledge base to identify “Apple” as a company and “Big Apple” as a nickname for New York."
   ]
  },
  {
   "cell_type": "markdown",
   "metadata": {},
   "source": [
    "___"
   ]
  },
  {
   "cell_type": "markdown",
   "metadata": {},
   "source": [
    "**3. Load the reviews dataset, and extract named entities and their category from 100 reviews. Visualize the named entity categories and their frequencies.**\n",
    "\n",
    "- For visualization, you can use tables or plots (e.g. `matplotlib` or `seaborn`)"
   ]
  },
  {
   "cell_type": "code",
   "execution_count": 11,
   "metadata": {},
   "outputs": [
    {
     "data": {
      "text/plain": [
       "['Worked just great! Fit perfectly and no issues at all. Easy to install and with ease. Would purchase it again.',\n",
       " 'keeps the stove clean.  love it',\n",
       " \"We purchased this oven before the holidays - Love it!  The top portion, which serves as a smaller oven, is perfect for cooking just about anything.  I've broiled steaks and chops, and baked cookies and cakes, everything has been fantastic!  It is absolutely wonderful to have 2 ovens in 1 appliance.  How often do you have potatoes going and the rest of your meal needs to be in the oven as well.  This solves all the problems!  We cooked our turkey and everything else with no conflicts this season!     The smaller oven on top makes it perfect for those of us with really bad backs!  I can barely bend over many days, but the top oven is at the perfect height to comfortably take whatever is in - out of the oven.       The burner controls along the side are great - gives the oven a much more streamlined look.  The oven lights go on when the either door is opened.  The entire appliance is very easy to keep clean.  Overall I am thrilled with this purchase, I love the oven and would recommend it to anyone - it's really a plus for a busy kitchen.\",\n",
       " 'cool',\n",
       " 'My Wife thought I was nuts when this arrived in a box the size of an stove.  We got the silver metallic with stainless trim. This thing does more than any other \\\\\\\\\"microwave hood\\\\\\\\\" I\\'ve read about or heard about. The sensors are abundent and amazing. We reheat something in it everyday. The steamer function allows to steam veggies with fish layered over the top to perfection everytime in the steamer unit that came with it.All with a push of a button. The exaust comes on automaticlly when is senses a high amount of heat or smoke. Can also be set manually. This  is  year 3 and now something is wrong with the touch sensor so I might recommend looking into extended warranty if its not too expensive. I ordered all new sensor board for $250 which is just about the whole door. Think I paid $800 for it new, and would buy another one......................... Askaspen']"
      ]
     },
     "execution_count": 11,
     "metadata": {},
     "output_type": "execute_result"
    }
   ],
   "source": [
    "import spacy\n",
    "\n",
    "reviews = df.sample(n=100)[\"review_body\"].tolist()\n",
    "reviews[:5]"
   ]
  },
  {
   "cell_type": "code",
   "execution_count": 12,
   "metadata": {},
   "outputs": [
    {
     "data": {
      "text/plain": [
       "[('DATE', 81),\n",
       " ('CARDINAL', 71),\n",
       " ('ORG', 60),\n",
       " ('ORDINAL', 25),\n",
       " ('MONEY', 20),\n",
       " ('GPE', 17),\n",
       " ('PERSON', 13),\n",
       " ('TIME', 10),\n",
       " ('QUANTITY', 9),\n",
       " ('NORP', 4),\n",
       " ('LANGUAGE', 1),\n",
       " ('LAW', 1),\n",
       " ('WORK_OF_ART', 1),\n",
       " ('PRODUCT', 1)]"
      ]
     },
     "execution_count": 12,
     "metadata": {},
     "output_type": "execute_result"
    }
   ],
   "source": [
    "# TODO: extract entities and visualize the top categories\n",
    "from collections import Counter\n",
    "import spacy\n",
    "\n",
    "nlp = spacy.load(\"en_core_web_sm\")\n",
    "\n",
    "def extract_entities(document: str):\n",
    "    doc = nlp(document)\n",
    "    entities = []\n",
    "    for ent in doc.ents:\n",
    "        entities.append((ent.text, ent.label_))\n",
    "    return entities\n",
    "\n",
    "entities = []\n",
    "for review in reviews:\n",
    "    entities.extend(extract_entities(review))\n",
    "\n",
    "# group by entity type\n",
    "entity_counter = Counter([entity[1] for entity in entities]).most_common()\n",
    "entity_counter"
   ]
  },
  {
   "cell_type": "code",
   "execution_count": 19,
   "metadata": {},
   "outputs": [
    {
     "data": {
      "image/png": "[encoded data removed]",
      "text/plain": [
       "<Figure size 700x300 with 1 Axes>"
      ]
     },
     "metadata": {},
     "output_type": "display_data"
    }
   ],
   "source": [
    "import seaborn as sns\n",
    "import matplotlib.pyplot as plt\n",
    "\n",
    "plt.figure(figsize=(7, 3))\n",
    "plt.xticks(rotation=45)\n",
    "entity_categories = pd.DataFrame(entity_counter, columns=[\"category\", \"count\"])\n",
    "sns.barplot(x=\"category\", y=\"count\", data=entity_categories);"
   ]
  }
 ],
 "metadata": {
  "kernelspec": {
   "display_name": "Python 3",
   "language": "python",
   "name": "python3"
  },
  "language_info": {
   "codemirror_mode": {
    "name": "ipython",
    "version": 3
   },
   "file_extension": ".py",
   "mimetype": "text/x-python",
   "name": "python",
   "nbconvert_exporter": "python",
   "pygments_lexer": "ipython3",
   "version": "3.11.7"
  }
 },
 "nbformat": 4,
 "nbformat_minor": 2
}
