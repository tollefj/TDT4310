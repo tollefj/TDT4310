{
 "cells": [
  {
   "cell_type": "markdown",
   "id": "9c6b385f-646b-4fcb-8a6f-b72f5a2a2057",
   "metadata": {},
   "source": [
    "## Categorizing and tagging words\n",
    "\n",
    "Examples here are taken from the book, to make it simpler to experiment with once set up as a jupyter notebook."
   ]
  },
  {
   "cell_type": "code",
   "execution_count": 1,
   "id": "699e23e1-6f02-47ce-b4b7-b5c7f4d94fe3",
   "metadata": {},
   "outputs": [],
   "source": [
    "import nltk"
   ]
  },
  {
   "cell_type": "code",
   "execution_count": 9,
   "id": "51ba1756-c6be-43fa-9e8f-0fe7fe045010",
   "metadata": {},
   "outputs": [
    {
     "data": {
      "text/plain": [
       "[('This', 'DT'),\n",
       " ('brings', 'VBZ'),\n",
       " ('us', 'PRP'),\n",
       " ('to', 'TO'),\n",
       " ('tagging', 'VBG')]"
      ]
     },
     "execution_count": 9,
     "metadata": {},
     "output_type": "execute_result"
    }
   ],
   "source": [
    "sent = \"This brings us to tagging\"\n",
    "text = nltk.word_tokenize(sent)\n",
    "nltk.pos_tag(text)"
   ]
  },
  {
   "cell_type": "markdown",
   "id": "14fbca5d-4789-4912-b260-5d746cb23428",
   "metadata": {},
   "source": [
    "Let's simplify those tags...\n",
    "- For corpora, we can specify `tagset=\"universal\"`\n",
    "- In general, you can map them to universal"
   ]
  },
  {
   "cell_type": "code",
   "execution_count": 11,
   "id": "44e6094a-2dc9-474b-9e30-c5cd433bf648",
   "metadata": {},
   "outputs": [
    {
     "data": {
      "text/plain": [
       "[('This', 'DET'),\n",
       " ('brings', 'VERB'),\n",
       " ('us', 'PRON'),\n",
       " ('to', 'PRT'),\n",
       " ('tagging', 'VERB')]"
      ]
     },
     "execution_count": 11,
     "metadata": {},
     "output_type": "execute_result"
    }
   ],
   "source": [
    "# https://www.ling.upenn.edu/courses/Fall_2003/ling001/penn_treebank_pos.html\n",
    "style = \"en-ptb\"  # penn treebank POS\n",
    "\n",
    "simplify = lambda tag : nltk.map_tag(style, \"universal\", tag)\n",
    "\n",
    "def simple_pos(text):\n",
    "    tokens = nltk.word_tokenize(text)\n",
    "    pos = nltk.pos_tag(tokens)\n",
    "    return [(word, simplify(tag)) for word, tag in pos]\n",
    "\n",
    "simple_pos(sent)"
   ]
  },
  {
   "cell_type": "markdown",
   "id": "bf06601c-0fa2-43a7-ac30-83c3cdcd7a9a",
   "metadata": {},
   "source": [
    "### This makes it a bit more readable :-)\n",
    "\n",
    "Note that corpora can be simplified by built-in functionality:\n",
    "https://www.nltk.org/_modules/nltk/tag/simplify.html"
   ]
  },
  {
   "cell_type": "code",
   "execution_count": null,
   "id": "c307f826-b311-41b3-a3c9-1d8c58cf546b",
   "metadata": {},
   "outputs": [],
   "source": []
  }
 ],
 "metadata": {
  "kernelspec": {
   "display_name": "Python 3.9.7 64-bit ('base': conda)",
   "language": "python",
   "name": "python397jvsc74a57bd029553384b1b01f6109f5069a08d409f2dc5adeb046ccd0e94d694cc3c1cd07a6"
  },
  "language_info": {
   "codemirror_mode": {
    "name": "ipython",
    "version": 3
   },
   "file_extension": ".py",
   "mimetype": "text/x-python",
   "name": "python",
   "nbconvert_exporter": "python",
   "pygments_lexer": "ipython3",
   "version": "3.9.9"
  }
 },
 "nbformat": 4,
 "nbformat_minor": 5
}
